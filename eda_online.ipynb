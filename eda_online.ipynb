{
 "cells": [
  {
   "cell_type": "markdown",
   "id": "7762084e-c2e2-43ac-94c2-8f4e5dae81d2",
   "metadata": {},
   "source": [
    "# EDA for online_retail dataset\n",
    "#### online_retail was originally an .xlsx file detailing retail invoices from our company. Using the commented code below, this file was converted to a .csv for ease of use. Additional columns 'Month', 'PurchaseTotal', and 'Cancelled' were appended for readability.\n",
    "\n",
    "#### To reconcile our different datasets, I am shifting the dates up by 11 years to match Misha's side with Financial/Managerial Accounting\n",
    "\n",
    "#### This notebook provides a high-level overview of the dataset and provides descriptive values and figures about product popularity, etc. It also shifts it to Double-Entry form at the end to make our balance sheet production easier.\n",
    "\n",
    "# TODO:\n",
    "<ul>\n",
    "    <li>More graphs</li>\n",
    "    <li>More statistical tests</li>\n",
    "    <li>Cleaning</li>\n",
    "    <li>Double-Entry</li>\n",
    "</ul>"
   ]
  },
  {
   "cell_type": "markdown",
   "id": "9af25375-3642-44f6-bb1c-d784e2b40ffd",
   "metadata": {},
   "source": [
    "### Import, setup, load"
   ]
  },
  {
   "cell_type": "code",
   "execution_count": 43,
   "id": "11fcaebc-6deb-4248-8074-deaa07fb45a6",
   "metadata": {},
   "outputs": [],
   "source": [
    "import pandas as pd\n",
    "import numpy as np\n",
    "import matplotlib.pyplot as plt\n",
    "import scipy.stats as stats"
   ]
  },
  {
   "cell_type": "code",
   "execution_count": 44,
   "id": "d29c4eff-c05d-4b9a-bd62-19d0731730d8",
   "metadata": {},
   "outputs": [],
   "source": [
    "online_schema = {\n",
    "    'InvoiceNo': 'string',\n",
    "    'StockCode': 'string',\n",
    "    'Quantity': 'int64',\n",
    "    'UnitPrice' : 'float64',\n",
    "    'CustomerID' : 'string',\n",
    "    'Country' : 'string'\n",
    "}\n",
    "\n",
    "UK = 'United Kingdom'"
   ]
  },
  {
   "cell_type": "code",
   "execution_count": 45,
   "id": "626aca5e-0f04-4626-ab8b-a5a44eeb8f1b",
   "metadata": {},
   "outputs": [],
   "source": [
    "online = pd.read_csv('data/online_retail.csv', parse_dates=True, dtype=online_schema)\n",
    "# online = online.sample(100000)\n",
    "online['InvoiceDate'] = pd.to_datetime(pd.to_datetime(online['InvoiceDate']).dt.date)"
   ]
  },
  {
   "cell_type": "code",
   "execution_count": 46,
   "id": "39930e75-04b6-489f-a0a6-dfaeb8f75f63",
   "metadata": {},
   "outputs": [],
   "source": [
    "online['PurchaseTotal'] = online['Quantity']*online['UnitPrice']\n",
    "online['Month'] = online['InvoiceDate'].dt.month\n",
    "condition = online['InvoiceNo'].str.contains('C')\n",
    "online['Cancelled'] = np.where(condition, 1, 0)\n",
    "online_noReturns = online.loc[((online['Quantity'] < 0) & (online['Cancelled'] == 1)) | (online['Quantity'] > 0)]\n",
    "online_noReturns_noCancels = online.loc[(online['Quantity'] > 0) & (online['Cancelled'] == 0)]"
   ]
  },
  {
   "cell_type": "markdown",
   "id": "b5e46c43-572e-4446-b159-d196f341e9d0",
   "metadata": {},
   "source": [
    "### Correlation between quantity purchased vs price per unit"
   ]
  },
  {
   "cell_type": "code",
   "execution_count": 47,
   "id": "909afb28-747d-4ac9-a07a-e488be314d04",
   "metadata": {},
   "outputs": [
    {
     "data": {
      "text/plain": [
       "0.019200496292917948"
      ]
     },
     "execution_count": 47,
     "metadata": {},
     "output_type": "execute_result"
    }
   ],
   "source": [
    "stats.pearsonr(online_noReturns_noCancels['Quantity'],online_noReturns_noCancels['UnitPrice']).pvalue"
   ]
  },
  {
   "cell_type": "markdown",
   "id": "89e3f71c-578c-47c2-a8ad-882843e99533",
   "metadata": {},
   "source": [
    "### PearsonR correlation PPU cancellation (may be bad)"
   ]
  },
  {
   "cell_type": "code",
   "execution_count": 48,
   "id": "72ae80f0-2e6d-4b87-ab48-b1b420cac5ce",
   "metadata": {},
   "outputs": [
    {
     "data": {
      "text/plain": [
       "0.0"
      ]
     },
     "execution_count": 48,
     "metadata": {},
     "output_type": "execute_result"
    }
   ],
   "source": [
    "stats.pearsonr(online_noReturns['Cancelled'],online_noReturns['UnitPrice']).pvalue"
   ]
  },
  {
   "cell_type": "markdown",
   "id": "63b74489-8ff2-4dd7-b648-4058cbee0311",
   "metadata": {},
   "source": [
    "### Highest mean quantity per purchase - the item bought in highest quantities (on average) at a time"
   ]
  },
  {
   "cell_type": "code",
   "execution_count": 49,
   "id": "83d29bb3-22a7-4b71-9252-906798e66d9a",
   "metadata": {},
   "outputs": [
    {
     "data": {
      "text/html": [
       "<div>\n",
       "<style scoped>\n",
       "    .dataframe tbody tr th:only-of-type {\n",
       "        vertical-align: middle;\n",
       "    }\n",
       "\n",
       "    .dataframe tbody tr th {\n",
       "        vertical-align: top;\n",
       "    }\n",
       "\n",
       "    .dataframe thead th {\n",
       "        text-align: right;\n",
       "    }\n",
       "</style>\n",
       "<table border=\"1\" class=\"dataframe\">\n",
       "  <thead>\n",
       "    <tr style=\"text-align: right;\">\n",
       "      <th></th>\n",
       "      <th>StockCode</th>\n",
       "      <th>Description</th>\n",
       "      <th>Quantity</th>\n",
       "    </tr>\n",
       "  </thead>\n",
       "  <tbody>\n",
       "    <tr>\n",
       "      <th>540421</th>\n",
       "      <td>23843</td>\n",
       "      <td>PAPER CRAFT , LITTLE BIRDIE</td>\n",
       "      <td>80995</td>\n",
       "    </tr>\n",
       "  </tbody>\n",
       "</table>\n",
       "</div>"
      ],
      "text/plain": [
       "       StockCode                  Description  Quantity\n",
       "540421     23843  PAPER CRAFT , LITTLE BIRDIE     80995"
      ]
     },
     "execution_count": 49,
     "metadata": {},
     "output_type": "execute_result"
    }
   ],
   "source": [
    "oNR_MQP = online_noReturns_noCancels[['StockCode','Description','Quantity']]\n",
    "mqpp = oNR_MQP.groupby(['StockCode','Description']).mean(numeric_only=True)\n",
    "oNR_MQP.loc[oNR_MQP['Quantity'] == mqpp['Quantity'].max()]"
   ]
  },
  {
   "cell_type": "markdown",
   "id": "a7dedf5b-110c-4d5b-bc33-52572090093c",
   "metadata": {},
   "source": [
    "### Lowest mean quantity per purchase - the item bought in lowest quantities (on average) at a time"
   ]
  },
  {
   "cell_type": "code",
   "execution_count": 50,
   "id": "cb8a0b87-f5e7-46be-85ef-02c002ff6b1a",
   "metadata": {},
   "outputs": [
    {
     "data": {
      "text/html": [
       "<div>\n",
       "<style scoped>\n",
       "    .dataframe tbody tr th:only-of-type {\n",
       "        vertical-align: middle;\n",
       "    }\n",
       "\n",
       "    .dataframe tbody tr th {\n",
       "        vertical-align: top;\n",
       "    }\n",
       "\n",
       "    .dataframe thead th {\n",
       "        text-align: right;\n",
       "    }\n",
       "</style>\n",
       "<table border=\"1\" class=\"dataframe\">\n",
       "  <thead>\n",
       "    <tr style=\"text-align: right;\">\n",
       "      <th></th>\n",
       "      <th>StockCode</th>\n",
       "      <th>Description</th>\n",
       "      <th>Quantity</th>\n",
       "    </tr>\n",
       "  </thead>\n",
       "  <tbody>\n",
       "    <tr>\n",
       "      <th>113</th>\n",
       "      <td>71270</td>\n",
       "      <td>PHOTO CLIP LINE</td>\n",
       "      <td>1</td>\n",
       "    </tr>\n",
       "    <tr>\n",
       "      <th>114</th>\n",
       "      <td>22262</td>\n",
       "      <td>FELT EGG COSY CHICKEN</td>\n",
       "      <td>1</td>\n",
       "    </tr>\n",
       "    <tr>\n",
       "      <th>115</th>\n",
       "      <td>22637</td>\n",
       "      <td>PIGGY BANK RETROSPOT</td>\n",
       "      <td>1</td>\n",
       "    </tr>\n",
       "    <tr>\n",
       "      <th>118</th>\n",
       "      <td>21166</td>\n",
       "      <td>COOK WITH WINE METAL SIGN</td>\n",
       "      <td>1</td>\n",
       "    </tr>\n",
       "    <tr>\n",
       "      <th>120</th>\n",
       "      <td>37444A</td>\n",
       "      <td>YELLOW BREAKFAST CUP AND SAUCER</td>\n",
       "      <td>1</td>\n",
       "    </tr>\n",
       "    <tr>\n",
       "      <th>...</th>\n",
       "      <td>...</td>\n",
       "      <td>...</td>\n",
       "      <td>...</td>\n",
       "    </tr>\n",
       "    <tr>\n",
       "      <th>541851</th>\n",
       "      <td>22721</td>\n",
       "      <td>SET OF 3 CAKE TINS SKETCHBOOK</td>\n",
       "      <td>1</td>\n",
       "    </tr>\n",
       "    <tr>\n",
       "      <th>541855</th>\n",
       "      <td>21351</td>\n",
       "      <td>CINAMMON &amp; ORANGE WREATH</td>\n",
       "      <td>1</td>\n",
       "    </tr>\n",
       "    <tr>\n",
       "      <th>541856</th>\n",
       "      <td>22698</td>\n",
       "      <td>PINK REGENCY TEACUP AND SAUCER</td>\n",
       "      <td>1</td>\n",
       "    </tr>\n",
       "    <tr>\n",
       "      <th>541857</th>\n",
       "      <td>22567</td>\n",
       "      <td>20 DOLLY PEGS RETROSPOT</td>\n",
       "      <td>1</td>\n",
       "    </tr>\n",
       "    <tr>\n",
       "      <th>541859</th>\n",
       "      <td>37500</td>\n",
       "      <td>TEA TIME TEAPOT IN GIFT BOX</td>\n",
       "      <td>1</td>\n",
       "    </tr>\n",
       "  </tbody>\n",
       "</table>\n",
       "<p>148227 rows × 3 columns</p>\n",
       "</div>"
      ],
      "text/plain": [
       "       StockCode                      Description  Quantity\n",
       "113        71270                  PHOTO CLIP LINE         1\n",
       "114        22262            FELT EGG COSY CHICKEN         1\n",
       "115        22637            PIGGY BANK RETROSPOT          1\n",
       "118        21166       COOK WITH WINE METAL SIGN          1\n",
       "120       37444A  YELLOW BREAKFAST CUP AND SAUCER         1\n",
       "...          ...                              ...       ...\n",
       "541851     22721    SET OF 3 CAKE TINS SKETCHBOOK         1\n",
       "541855     21351         CINAMMON & ORANGE WREATH         1\n",
       "541856     22698   PINK REGENCY TEACUP AND SAUCER         1\n",
       "541857     22567          20 DOLLY PEGS RETROSPOT         1\n",
       "541859     37500      TEA TIME TEAPOT IN GIFT BOX         1\n",
       "\n",
       "[148227 rows x 3 columns]"
      ]
     },
     "execution_count": 50,
     "metadata": {},
     "output_type": "execute_result"
    }
   ],
   "source": [
    "oNR_MQP.loc[oNR_MQP['Quantity'] == mqpp['Quantity'].min()]"
   ]
  },
  {
   "cell_type": "markdown",
   "id": "bdc30e53-6cd1-4425-9e47-26d30986b467",
   "metadata": {},
   "source": [
    "### Trend: Net income over time - 2011 (the only complete year)"
   ]
  },
  {
   "cell_type": "code",
   "execution_count": 69,
   "id": "54f839f9-3ae9-498b-b5c7-d7651eeb72c5",
   "metadata": {
    "scrolled": true
   },
   "outputs": [
    {
     "data": {
      "image/png": "[encoded data removed]",
      "text/plain": [
       "<Figure size 1000x300 with 1 Axes>"
      ]
     },
     "metadata": {},
     "output_type": "display_data"
    }
   ],
   "source": [
    "onlineAgg_perDay = online[['InvoiceDate','Quantity','PurchaseTotal','Month']] \\\n",
    "    .groupby(['InvoiceDate']).sum(numeric_only=True).reset_index()\n",
    "plt.figure(figsize=(10,3))\n",
    "plt.plot(onlineAgg_perDay['InvoiceDate'],onlineAgg_perDay['Quantity'])\n",
    "plt.tight_layout()"
   ]
  },
  {
   "cell_type": "markdown",
   "id": "40a18c96-6c97-4d81-aa2b-4b3bb45cddba",
   "metadata": {},
   "source": [
    "### What the hell happened in that dip?"
   ]
  },
  {
   "cell_type": "code",
   "execution_count": 52,
   "id": "fb9b6fe2-18cb-4c4f-bcaf-c456358648d4",
   "metadata": {},
   "outputs": [
    {
     "data": {
      "text/plain": [
       "-1566.23"
      ]
     },
     "execution_count": 52,
     "metadata": {},
     "output_type": "execute_result"
    }
   ],
   "source": [
    "onlineAgg_perDay['PurchaseTotal'].min()"
   ]
  },
  {
   "cell_type": "markdown",
   "id": "faa89a84-167a-4820-919b-358d0bc8877b",
   "metadata": {},
   "source": [
    "### We're gonna do some cleaning now, and then attempt Double Entry form\n",
    "#### Getting rid of rows with blank description/quant/price first"
   ]
  },
  {
   "cell_type": "code",
   "execution_count": null,
   "id": "2687d200-c914-4002-a2f1-4c67aa91ef2c",
   "metadata": {},
   "outputs": [],
   "source": [
    "online_cleaned = online.loc[(online['Description'].notna())&(online['Quantity'].notna())&(online['UnitPrice'].notna()) \\\n",
    "&(online['InvoiceDate'].dt.year == 2011)]\n",
    "online_cleaned = online_cleaned.groupby(['InvoiceNo','InvoiceDate']).sum(numeric_only=True).reset_index()"
   ]
  },
  {
   "cell_type": "code",
   "execution_count": 63,
   "id": "7a5095c2-542d-4a6c-8495-44a9d649908e",
   "metadata": {},
   "outputs": [],
   "source": [
    "schema_de = {\n",
    "    'InvoiceNo': 'string',\n",
    "    'InvoiceDate': 'datetime64',\n",
    "    'Type': 'string',\n",
    "    'Account': 'string',\n",
    "    'Amount': 'float64'\n",
    "}"
   ]
  },
  {
   "cell_type": "code",
   "execution_count": 73,
   "id": "ad466b6e-48db-4580-aa5c-64a271803581",
   "metadata": {},
   "outputs": [],
   "source": [
    "double_entry = pd.DataFrame(columns=schema_de.keys()).astype(schema_de)\n",
    "\n",
    "def create_double_entry(row):\n",
    "    debit_row = {\n",
    "        'InvoiceNo': row['InvoiceNo'],\n",
    "        'InvoiceDate': row['InvoiceDate'],\n",
    "        'Type': 'Debit',\n",
    "        'Account': 'Accounts Receivable',\n",
    "        'Amount': row['PurchaseTotal']\n",
    "    }\n",
    "\n",
    "    credit_row = {\n",
    "        'InvoiceNo': row['InvoiceNo'],\n",
    "        'InvoiceDate': row['InvoiceDate'],\n",
    "        'Type': 'Credit',\n",
    "        'Account': 'Revenue',\n",
    "        'Amount': -row['PurchaseTotal']\n",
    "    }\n",
    "    return pd.DataFrame([debit_row, credit_row], columns=schema_de.keys())\n",
    "\n",
    "double_entry = pd.concat(online_cleaned.apply(create_double_entry, axis=1).to_list(), ignore_index=True)"
   ]
  },
  {
   "cell_type": "code",
   "execution_count": 74,
   "id": "6c958402-fd96-4f98-b9ab-a17c2783972d",
   "metadata": {},
   "outputs": [
    {
     "data": {
      "text/html": [
       "<div>\n",
       "<style scoped>\n",
       "    .dataframe tbody tr th:only-of-type {\n",
       "        vertical-align: middle;\n",
       "    }\n",
       "\n",
       "    .dataframe tbody tr th {\n",
       "        vertical-align: top;\n",
       "    }\n",
       "\n",
       "    .dataframe thead th {\n",
       "        text-align: right;\n",
       "    }\n",
       "</style>\n",
       "<table border=\"1\" class=\"dataframe\">\n",
       "  <thead>\n",
       "    <tr style=\"text-align: right;\">\n",
       "      <th></th>\n",
       "      <th>InvoiceNo</th>\n",
       "      <th>InvoiceDate</th>\n",
       "      <th>Type</th>\n",
       "      <th>Account</th>\n",
       "      <th>Amount</th>\n",
       "    </tr>\n",
       "  </thead>\n",
       "  <tbody>\n",
       "    <tr>\n",
       "      <th>0</th>\n",
       "      <td>539993</td>\n",
       "      <td>2011-01-04</td>\n",
       "      <td>Debit</td>\n",
       "      <td>Accounts Receivable</td>\n",
       "      <td>307.30</td>\n",
       "    </tr>\n",
       "    <tr>\n",
       "      <th>1</th>\n",
       "      <td>539993</td>\n",
       "      <td>2011-01-04</td>\n",
       "      <td>Credit</td>\n",
       "      <td>Revenue</td>\n",
       "      <td>-307.30</td>\n",
       "    </tr>\n",
       "    <tr>\n",
       "      <th>2</th>\n",
       "      <td>540001</td>\n",
       "      <td>2011-01-04</td>\n",
       "      <td>Debit</td>\n",
       "      <td>Accounts Receivable</td>\n",
       "      <td>474.66</td>\n",
       "    </tr>\n",
       "    <tr>\n",
       "      <th>3</th>\n",
       "      <td>540001</td>\n",
       "      <td>2011-01-04</td>\n",
       "      <td>Credit</td>\n",
       "      <td>Revenue</td>\n",
       "      <td>-474.66</td>\n",
       "    </tr>\n",
       "    <tr>\n",
       "      <th>4</th>\n",
       "      <td>540002</td>\n",
       "      <td>2011-01-04</td>\n",
       "      <td>Debit</td>\n",
       "      <td>Accounts Receivable</td>\n",
       "      <td>310.28</td>\n",
       "    </tr>\n",
       "    <tr>\n",
       "      <th>...</th>\n",
       "      <td>...</td>\n",
       "      <td>...</td>\n",
       "      <td>...</td>\n",
       "      <td>...</td>\n",
       "      <td>...</td>\n",
       "    </tr>\n",
       "    <tr>\n",
       "      <th>45087</th>\n",
       "      <td>C581499</td>\n",
       "      <td>2011-12-09</td>\n",
       "      <td>Credit</td>\n",
       "      <td>Revenue</td>\n",
       "      <td>224.69</td>\n",
       "    </tr>\n",
       "    <tr>\n",
       "      <th>45088</th>\n",
       "      <td>C581568</td>\n",
       "      <td>2011-12-09</td>\n",
       "      <td>Debit</td>\n",
       "      <td>Accounts Receivable</td>\n",
       "      <td>-54.75</td>\n",
       "    </tr>\n",
       "    <tr>\n",
       "      <th>45089</th>\n",
       "      <td>C581568</td>\n",
       "      <td>2011-12-09</td>\n",
       "      <td>Credit</td>\n",
       "      <td>Revenue</td>\n",
       "      <td>54.75</td>\n",
       "    </tr>\n",
       "    <tr>\n",
       "      <th>45090</th>\n",
       "      <td>C581569</td>\n",
       "      <td>2011-12-09</td>\n",
       "      <td>Debit</td>\n",
       "      <td>Accounts Receivable</td>\n",
       "      <td>-7.50</td>\n",
       "    </tr>\n",
       "    <tr>\n",
       "      <th>45091</th>\n",
       "      <td>C581569</td>\n",
       "      <td>2011-12-09</td>\n",
       "      <td>Credit</td>\n",
       "      <td>Revenue</td>\n",
       "      <td>7.50</td>\n",
       "    </tr>\n",
       "  </tbody>\n",
       "</table>\n",
       "<p>45092 rows × 5 columns</p>\n",
       "</div>"
      ],
      "text/plain": [
       "      InvoiceNo InvoiceDate    Type              Account  Amount\n",
       "0        539993  2011-01-04   Debit  Accounts Receivable  307.30\n",
       "1        539993  2011-01-04  Credit              Revenue -307.30\n",
       "2        540001  2011-01-04   Debit  Accounts Receivable  474.66\n",
       "3        540001  2011-01-04  Credit              Revenue -474.66\n",
       "4        540002  2011-01-04   Debit  Accounts Receivable  310.28\n",
       "...         ...         ...     ...                  ...     ...\n",
       "45087   C581499  2011-12-09  Credit              Revenue  224.69\n",
       "45088   C581568  2011-12-09   Debit  Accounts Receivable  -54.75\n",
       "45089   C581568  2011-12-09  Credit              Revenue   54.75\n",
       "45090   C581569  2011-12-09   Debit  Accounts Receivable   -7.50\n",
       "45091   C581569  2011-12-09  Credit              Revenue    7.50\n",
       "\n",
       "[45092 rows x 5 columns]"
      ]
     },
     "execution_count": 74,
     "metadata": {},
     "output_type": "execute_result"
    }
   ],
   "source": [
    "double_entry"
   ]
  },
  {
   "cell_type": "code",
   "execution_count": null,
   "id": "f4d32415-66e1-494c-96c9-8a1d9fc11178",
   "metadata": {},
   "outputs": [],
   "source": []
  }
 ],
 "metadata": {
  "kernelspec": {
   "display_name": "Python 3 (ipykernel)",
   "language": "python",
   "name": "python3"
  },
  "language_info": {
   "codemirror_mode": {
    "name": "ipython",
    "version": 3
   },
   "file_extension": ".py",
   "mimetype": "text/x-python",
   "name": "python",
   "nbconvert_exporter": "python",
   "pygments_lexer": "ipython3",
   "version": "3.10.13"
  }
 },
 "nbformat": 4,
 "nbformat_minor": 5
}
