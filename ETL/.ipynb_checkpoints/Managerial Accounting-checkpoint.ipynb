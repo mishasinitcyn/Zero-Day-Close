{
 "cells": [
  {
   "cell_type": "markdown",
   "metadata": {},
   "source": [
    "## Managerial Accounting ETL\n",
    "This notebook contains the code to transform the [Managerial Accounting](https://www.kaggle.com/datasets/jazidesigns/managerial-accounting) dataset into a double-entry compliant bookkeeping format."
   ]
  },
  {
   "cell_type": "code",
   "execution_count": null,
   "metadata": {},
   "outputs": [],
   "source": [
    "import pandas as pd"
   ]
  },
  {
   "cell_type": "code",
   "execution_count": null,
   "metadata": {},
   "outputs": [],
   "source": [
    "df = pd.read_csv('../data/managerial_accounting.csv')\n",
    "df.rename(columns={'Transaction Date': 'Date'}, inplace=True)\n",
    "df['Date'] = pd.to_datetime(df['Date'])"
   ]
  },
  {
   "cell_type": "code",
   "execution_count": null,
   "metadata": {},
   "outputs": [],
   "source": [
    "df.head()"
   ]
  },
  {
   "cell_type": "code",
   "execution_count": null,
   "metadata": {},
   "outputs": [],
   "source": [
    "df['Reference Number'].value_counts()"
   ]
  },
  {
   "cell_type": "code",
   "execution_count": null,
   "metadata": {},
   "outputs": [],
   "source": [
    "df['Note'].value_counts()"
   ]
  },
  {
   "cell_type": "code",
   "execution_count": null,
   "metadata": {},
   "outputs": [],
   "source": [
    "df.drop(['Note'], axis=1, inplace=True)"
   ]
  },
  {
   "cell_type": "code",
   "execution_count": null,
   "metadata": {},
   "outputs": [],
   "source": [
    "print(df['Transaction Type'].unique())\n",
    "print(df['Category'].unique())\n",
    "print(df['Department'].unique())"
   ]
  },
  {
   "cell_type": "code",
   "execution_count": null,
   "metadata": {},
   "outputs": [],
   "source": [
    "#Sample df for testing into 20% of the original size\n",
    "#df = df.sample(frac=0.2, random_state=1)"
   ]
  },
  {
   "cell_type": "code",
   "execution_count": null,
   "metadata": {},
   "outputs": [],
   "source": [
    "new_df = pd.DataFrame(columns=df.columns)"
   ]
  },
  {
   "cell_type": "markdown",
   "metadata": {},
   "source": [
    "## Transformation 1: Expense"
   ]
  },
  {
   "cell_type": "code",
   "execution_count": null,
   "metadata": {},
   "outputs": [],
   "source": [
    "print(df[df['Transaction Type'] == 'Expense']['Category'].unique())"
   ]
  },
  {
   "cell_type": "code",
   "execution_count": null,
   "metadata": {},
   "outputs": [],
   "source": [
    "def categorize_transaction(category):\n",
    "    cash_accounts = ['Utilities', 'Supplies', 'Salaries', 'Rent']\n",
    "    acounts_payable_accounts = ['Loans']\n",
    "    asset_accounts = ['Assets']\n",
    "    revenue_accounts = ['Service Revenue', 'Royalties', 'Product Sales']\n",
    "\n",
    "    if category in cash_accounts:\n",
    "        return 'Cash' # assume cash\n",
    "    elif category in acounts_payable_accounts:\n",
    "        return 'Accounts Payable'\n",
    "    elif category in asset_accounts:\n",
    "        return 'Asset Account'\n",
    "    elif category in revenue_accounts:\n",
    "        return 'Revenue Account'\n",
    "    else:\n",
    "        return 'Error'\n",
    "    \n",
    "for index, row in df[(df['Transaction Type'] == 'Expense') & (df['Category'] == 'Utilities')].iterrows():\n",
    "    #Debit Entry\n",
    "    debit_entry = row.copy()\n",
    "    debit_entry['Account'] = \"Expense Account\"\n",
    "    debit_entry['Debit'] = row['Transaction Amount']\n",
    "    debit_entry['Credit'] = 0.0\n",
    "    new_df = new_df.append(debit_entry, ignore_index=True)\n",
    "\n",
    "    account_type = categorize_transaction(row['Category'])\n",
    "    #Credit Entry\n",
    "    credit_entry = row.copy()\n",
    "    credit_entry['Account'] = account_type\n",
    "    credit_entry['Debit'] = 0.0\n",
    "    credit_entry['Credit'] = row['Transaction Amount']\n",
    "    new_df = new_df.append(credit_entry, ignore_index=True)"
   ]
  },
  {
   "cell_type": "code",
   "execution_count": null,
   "metadata": {},
   "outputs": [],
   "source": [
    "df[~((df['Transaction Type'] == 'Expense') & (df['Category'] == 'Utilities'))]"
   ]
  },
  {
   "cell_type": "code",
   "execution_count": null,
   "metadata": {},
   "outputs": [],
   "source": [
    "for index, row in df[(df['Transaction Type'] == 'Expense') & (df['Category'] == 'Supplies')].iterrows():\n",
    "    #Debit Entry\n",
    "    debit_entry = row.copy()\n",
    "    debit_entry['Account'] = \"Expense Account\"\n",
    "    debit_entry['Debit'] = row['Transaction Amount']\n",
    "    debit_entry['Credit'] = 0.0\n",
    "    new_df = new_df.append(debit_entry, ignore_index=True)\n",
    "\n",
    "    account_type = categorize_transaction(row['Category'])\n",
    "    #Credit Entry\n",
    "    credit_entry = row.copy()\n",
    "    credit_entry['Account'] = account_type\n",
    "    credit_entry['Debit'] = 0.0\n",
    "    credit_entry['Credit'] = row['Transaction Amount']\n",
    "    new_df = new_df.append(credit_entry, ignore_index=True)"
   ]
  },
  {
   "cell_type": "code",
   "execution_count": null,
   "metadata": {},
   "outputs": [],
   "source": [
    "df[~((df['Transaction Type'] == 'Expense') & (df['Category'] == 'Supplies'))]"
   ]
  },
  {
   "cell_type": "code",
   "execution_count": null,
   "metadata": {},
   "outputs": [],
   "source": [
    "for index, row in df[(df['Transaction Type'] == 'Expense') & (df['Category'] == 'Salaries')].iterrows():\n",
    "    #Debit Entry\n",
    "    debit_entry = row.copy()\n",
    "    debit_entry['Account'] = \"Expense Account\"\n",
    "    debit_entry['Debit'] = row['Transaction Amount']\n",
    "    debit_entry['Credit'] = 0.0\n",
    "    new_df = new_df.append(debit_entry, ignore_index=True)\n",
    "\n",
    "    account_type = categorize_transaction(row['Category'])\n",
    "    #Credit Entry\n",
    "    credit_entry = row.copy()\n",
    "    credit_entry['Account'] = account_type\n",
    "    credit_entry['Debit'] = 0.0\n",
    "    credit_entry['Credit'] = row['Transaction Amount']\n",
    "    new_df = new_df.append(credit_entry, ignore_index=True)"
   ]
  },
  {
   "cell_type": "code",
   "execution_count": null,
   "metadata": {},
   "outputs": [],
   "source": [
    "df[~((df['Transaction Type'] == 'Expense') & (df['Category'] == 'Salaries'))]"
   ]
  },
  {
   "cell_type": "code",
   "execution_count": null,
   "metadata": {},
   "outputs": [],
   "source": [
    "for index, row in df[(df['Transaction Type'] == 'Expense') & (df['Category'] == 'Rent')].iterrows():\n",
    "    #Debit Entry\n",
    "    debit_entry = row.copy()\n",
    "    debit_entry['Account'] = \"Expense Account\"\n",
    "    debit_entry['Debit'] = row['Transaction Amount']\n",
    "    debit_entry['Credit'] = 0.0\n",
    "    new_df = new_df.append(debit_entry, ignore_index=True)\n",
    "\n",
    "    account_type = categorize_transaction(row['Category'])\n",
    "    #Credit Entry\n",
    "    credit_entry = row.copy()\n",
    "    credit_entry['Account'] = account_type\n",
    "    credit_entry['Debit'] = 0.0\n",
    "    credit_entry['Credit'] = row['Transaction Amount']\n",
    "    new_df = new_df.append(credit_entry, ignore_index=True)"
   ]
  },
  {
   "cell_type": "code",
   "execution_count": null,
   "metadata": {},
   "outputs": [],
   "source": [
    "df[~((df['Transaction Type'] == 'Expense') & (df['Category'] == 'Rent'))]"
   ]
  },
  {
   "cell_type": "code",
   "execution_count": null,
   "metadata": {},
   "outputs": [],
   "source": [
    "new_df.head()"
   ]
  },
  {
   "cell_type": "code",
   "execution_count": null,
   "metadata": {},
   "outputs": [],
   "source": [
    "df = df[~(df['Transaction Type'] == 'Expense')]"
   ]
  },
  {
   "cell_type": "markdown",
   "metadata": {},
   "source": [
    "## Transformation 2: Liability Payment"
   ]
  },
  {
   "cell_type": "code",
   "execution_count": null,
   "metadata": {},
   "outputs": [],
   "source": [
    "print(df[df['Transaction Type'] == 'Liability Payment']['Category'].unique())"
   ]
  },
  {
   "cell_type": "code",
   "execution_count": null,
   "metadata": {},
   "outputs": [],
   "source": [
    "def categorize_liability_payment(category):\n",
    "    expense_accounts = ['Utilities', 'Supplies', 'Salaries', 'Rent']\n",
    "    asset_accounts = ['Assets', 'Loans']\n",
    "    revenue_accounts = ['Royalties', 'Service Revenue', 'Product Sales']\n",
    "\n",
    "    if category in expense_accounts:\n",
    "        return \"Expense Account\"\n",
    "    elif category in asset_accounts:\n",
    "        return \"Asset Account\"\n",
    "    elif category in revenue_accounts:\n",
    "        return \"Revenue Account\"\n",
    "    else:\n",
    "        return \"Error\"\n",
    "\n",
    "for index, row in df[df['Transaction Type'] == 'Liability Payment'].iterrows():\n",
    "    #Debit Entry\n",
    "    debit_entry = row.copy()\n",
    "    debit_entry['Account'] = categorize_liability_payment(row['Category'])\n",
    "    debit_entry['Debit'] = row['Transaction Amount']\n",
    "    debit_entry['Credit'] = 0.0\n",
    "    new_df = new_df.append(debit_entry, ignore_index=True)\n",
    "\n",
    "    #Credit Entry (Cash)\n",
    "    credit_entry = row.copy()\n",
    "    credit_entry['Account'] = 'Cash'\n",
    "    credit_entry['Debit'] = 0.0\n",
    "    credit_entry['Credit'] = row['Transaction Amount']\n",
    "    new_df = new_df.append(credit_entry, ignore_index=True)"
   ]
  },
  {
   "cell_type": "code",
   "execution_count": null,
   "metadata": {},
   "outputs": [],
   "source": [
    "df = df[~(df['Transaction Type'] == 'Liability Payment')]"
   ]
  },
  {
   "cell_type": "markdown",
   "metadata": {},
   "source": [
    "## Transformation 3: Revenue"
   ]
  },
  {
   "cell_type": "code",
   "execution_count": null,
   "metadata": {},
   "outputs": [],
   "source": [
    "print(df[df['Transaction Type'] == 'Revenue']['Category'].unique())"
   ]
  },
  {
   "cell_type": "code",
   "execution_count": null,
   "metadata": {},
   "outputs": [],
   "source": [
    "def categorize_revenue(category):\n",
    "    revenue_accounts = ['Royalties', 'Service Revenue', 'Product Sales']\n",
    "\n",
    "    if category in revenue_accounts:\n",
    "        return \"Revenue Account\"\n",
    "    else:\n",
    "        return \"Error\"\n",
    "\n",
    "for index, row in df[df['Transaction Type'] == 'Revenue'].iterrows():\n",
    "    #Credit Entry (Increase in Revenue)\n",
    "    credit_entry = row.copy()\n",
    "    credit_entry['Account'] = categorize_revenue(row['Category'])\n",
    "    credit_entry['Debit'] = 0.0\n",
    "    credit_entry['Credit'] = row['Transaction Amount']\n",
    "    new_df = new_df.append(credit_entry, ignore_index=True)\n",
    "\n",
    "    #Debit Entry (Increase in Asset)\n",
    "    debit_entry = row.copy()\n",
    "    debit_entry['Account'] = 'Cash'\n",
    "    debit_entry['Debit'] = row['Transaction Amount']\n",
    "    debit_entry['Credit'] = 0.0\n",
    "    new_df = new_df.append(debit_entry, ignore_index=True)"
   ]
  },
  {
   "cell_type": "code",
   "execution_count": null,
   "metadata": {},
   "outputs": [],
   "source": [
    "df = df[~(df['Transaction Type'] == 'Revenue')]"
   ]
  },
  {
   "cell_type": "markdown",
   "metadata": {},
   "source": [
    "## Transformation 4: Asset Purchase"
   ]
  },
  {
   "cell_type": "code",
   "execution_count": null,
   "metadata": {},
   "outputs": [],
   "source": [
    "print(df[df['Transaction Type'] == 'Asset Purchase']['Category'].unique())"
   ]
  },
  {
   "cell_type": "code",
   "execution_count": null,
   "metadata": {},
   "outputs": [],
   "source": [
    "def categorize_asset_purchase(category):\n",
    "    if category in ['Loans', 'Assets']:\n",
    "        return \"Asset Account\"\n",
    "    else:\n",
    "        return \"Error\"\n",
    "\n",
    "def is_cash_equivalent(payment_method):\n",
    "    return payment_method in [\"Cash\", \"Bank Transfer\"]\n",
    "\n",
    "for index, row in df[df['Transaction Type'] == 'Asset Purchase'].iterrows():\n",
    "    #Debit Entry (Increase in Asset)\n",
    "    debit_entry = row.copy()\n",
    "    debit_entry['Account'] = categorize_asset_purchase(row['Category'])\n",
    "    debit_entry['Debit'] = row['Transaction Amount']\n",
    "    debit_entry['Credit'] = 0.0\n",
    "    new_df = new_df.append(debit_entry, ignore_index=True)\n",
    "\n",
    "    #Credit Entry (Decrease in Cash)\n",
    "    credit_entry = row.copy()\n",
    "    credit_entry['Account'] = 'Cash'\n",
    "    credit_entry['Debit'] = 0.0\n",
    "    credit_entry['Credit'] = row['Transaction Amount']\n",
    "    new_df = new_df.append(credit_entry, ignore_index=True)\n"
   ]
  },
  {
   "cell_type": "code",
   "execution_count": null,
   "metadata": {},
   "outputs": [],
   "source": [
    "df = df[~(df['Transaction Type'] == 'Asset Purchase')]"
   ]
  },
  {
   "cell_type": "code",
   "execution_count": null,
   "metadata": {},
   "outputs": [],
   "source": [
    "#original dataframe should be empty\n",
    "df"
   ]
  },
  {
   "cell_type": "code",
   "execution_count": null,
   "metadata": {},
   "outputs": [],
   "source": [
    "#Drop transaction amount since it's been split into debit and credit\n",
    "new_df.drop(['Transaction Amount'], axis=1, inplace=True)"
   ]
  },
  {
   "cell_type": "code",
   "execution_count": null,
   "metadata": {},
   "outputs": [],
   "source": [
    "#save new_df to csv\n",
    "new_df.to_csv('../data/double_entry_managerial_accounting.csv', index=False)"
   ]
  },
  {
   "cell_type": "code",
   "execution_count": null,
   "metadata": {},
   "outputs": [],
   "source": [
    "new_df.shape"
   ]
  }
 ],
 "metadata": {
  "kernelspec": {
   "display_name": "Python 3 (ipykernel)",
   "language": "python",
   "name": "python3"
  },
  "language_info": {
   "codemirror_mode": {
    "name": "ipython",
    "version": 3
   },
   "file_extension": ".py",
   "mimetype": "text/x-python",
   "name": "python",
   "nbconvert_exporter": "python",
   "pygments_lexer": "ipython3",
   "version": "3.9.13"
  }
 },
 "nbformat": 4,
 "nbformat_minor": 2
}
