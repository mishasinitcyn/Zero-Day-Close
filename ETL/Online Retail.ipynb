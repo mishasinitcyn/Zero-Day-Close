{
 "cells": [
  {
   "cell_type": "markdown",
   "metadata": {},
   "source": [
    "# Financial Accounting ETL"
   ]
  },
  {
   "cell_type": "markdown",
   "metadata": {},
   "source": [
    "This notebook transforms the [Online Retail](https://archive.ics.uci.edu/dataset/352/online+retail) dataset into a double-entry compliant bookkeeping format. Realistically, financial data would come from an ERP system (Workday, SAP) in this exact format."
   ]
  },
  {
   "cell_type": "code",
   "execution_count": 63,
   "metadata": {},
   "outputs": [],
   "source": [
    "import pandas as pd"
   ]
  },
  {
   "cell_type": "code",
   "execution_count": 64,
   "metadata": {},
   "outputs": [],
   "source": [
    "online_schema = {\n",
    "    'InvoiceNo': 'string',\n",
    "    'InvoiceDate': 'string',\n",
    "    'StockCode': 'string',\n",
    "    'Quantity': 'int64',\n",
    "    'UnitPrice' : 'float64',\n",
    "    'CustomerID' : 'string',\n",
    "    'Country' : 'string'\n",
    "}\n",
    "schema_de = {\n",
    "    'InvoiceNo': 'string',\n",
    "    'InvoiceDate': 'string',\n",
    "    'Type': 'string',\n",
    "    'Account': 'string',\n",
    "    'Amount': 'float64',\n",
    "    'CustomerID' : 'string',\n",
    "    'Country' : 'string'\n",
    "}"
   ]
  },
  {
   "cell_type": "code",
   "execution_count": 65,
   "metadata": {},
   "outputs": [
    {
     "data": {
      "text/html": [
       "<div>\n",
       "<style scoped>\n",
       "    .dataframe tbody tr th:only-of-type {\n",
       "        vertical-align: middle;\n",
       "    }\n",
       "\n",
       "    .dataframe tbody tr th {\n",
       "        vertical-align: top;\n",
       "    }\n",
       "\n",
       "    .dataframe thead th {\n",
       "        text-align: right;\n",
       "    }\n",
       "</style>\n",
       "<table border=\"1\" class=\"dataframe\">\n",
       "  <thead>\n",
       "    <tr style=\"text-align: right;\">\n",
       "      <th></th>\n",
       "      <th>InvoiceNo</th>\n",
       "      <th>StockCode</th>\n",
       "      <th>Description</th>\n",
       "      <th>Quantity</th>\n",
       "      <th>InvoiceDate</th>\n",
       "      <th>UnitPrice</th>\n",
       "      <th>CustomerID</th>\n",
       "      <th>Country</th>\n",
       "      <th>PurchaseTotal</th>\n",
       "    </tr>\n",
       "  </thead>\n",
       "  <tbody>\n",
       "    <tr>\n",
       "      <th>262786</th>\n",
       "      <td>559923</td>\n",
       "      <td>20761</td>\n",
       "      <td>BLUE PAISLEY SKETCHBOOK</td>\n",
       "      <td>1</td>\n",
       "      <td>2022-06-29</td>\n",
       "      <td>7.46</td>\n",
       "      <td>&lt;NA&gt;</td>\n",
       "      <td>United Kingdom</td>\n",
       "      <td>7.46</td>\n",
       "    </tr>\n",
       "    <tr>\n",
       "      <th>94294</th>\n",
       "      <td>544341</td>\n",
       "      <td>22671</td>\n",
       "      <td>FRENCH LAUNDRY SIGN BLUE METAL</td>\n",
       "      <td>12</td>\n",
       "      <td>2022-02-04</td>\n",
       "      <td>1.65</td>\n",
       "      <td>13012.0</td>\n",
       "      <td>United Kingdom</td>\n",
       "      <td>19.80</td>\n",
       "    </tr>\n",
       "    <tr>\n",
       "      <th>232073</th>\n",
       "      <td>557301</td>\n",
       "      <td>22191</td>\n",
       "      <td>IVORY DINER WALL CLOCK</td>\n",
       "      <td>2</td>\n",
       "      <td>2022-06-05</td>\n",
       "      <td>8.50</td>\n",
       "      <td>15373.0</td>\n",
       "      <td>United Kingdom</td>\n",
       "      <td>17.00</td>\n",
       "    </tr>\n",
       "    <tr>\n",
       "      <th>70800</th>\n",
       "      <td>542102</td>\n",
       "      <td>21621</td>\n",
       "      <td>VINTAGE UNION JACK BUNTING</td>\n",
       "      <td>12</td>\n",
       "      <td>2022-01-11</td>\n",
       "      <td>8.50</td>\n",
       "      <td>12744.0</td>\n",
       "      <td>Singapore</td>\n",
       "      <td>102.00</td>\n",
       "    </tr>\n",
       "    <tr>\n",
       "      <th>431690</th>\n",
       "      <td>573744</td>\n",
       "      <td>23503</td>\n",
       "      <td>PLAYING CARDS KEEP CALM &amp; CARRY ON</td>\n",
       "      <td>12</td>\n",
       "      <td>2022-10-18</td>\n",
       "      <td>1.25</td>\n",
       "      <td>17733.0</td>\n",
       "      <td>United Kingdom</td>\n",
       "      <td>15.00</td>\n",
       "    </tr>\n",
       "  </tbody>\n",
       "</table>\n",
       "</div>"
      ],
      "text/plain": [
       "       InvoiceNo StockCode                         Description  Quantity  \\\n",
       "262786    559923     20761             BLUE PAISLEY SKETCHBOOK         1   \n",
       "94294     544341     22671      FRENCH LAUNDRY SIGN BLUE METAL        12   \n",
       "232073    557301     22191              IVORY DINER WALL CLOCK         2   \n",
       "70800     542102     21621          VINTAGE UNION JACK BUNTING        12   \n",
       "431690    573744     23503  PLAYING CARDS KEEP CALM & CARRY ON        12   \n",
       "\n",
       "       InvoiceDate  UnitPrice CustomerID         Country  PurchaseTotal  \n",
       "262786  2022-06-29       7.46       <NA>  United Kingdom           7.46  \n",
       "94294   2022-02-04       1.65    13012.0  United Kingdom          19.80  \n",
       "232073  2022-06-05       8.50    15373.0  United Kingdom          17.00  \n",
       "70800   2022-01-11       8.50    12744.0       Singapore         102.00  \n",
       "431690  2022-10-18       1.25    17733.0  United Kingdom          15.00  "
      ]
     },
     "execution_count": 65,
     "metadata": {},
     "output_type": "execute_result"
    }
   ],
   "source": [
    "online = pd.read_csv('../data/online_retail.csv', parse_dates=True, dtype=online_schema).sample(100000)\n",
    "online.to_csv('../data/online_retail_sampled.csv', index=False)\n",
    "online['InvoiceDate'] = pd.to_datetime(pd.to_datetime(online['InvoiceDate']).dt.date)\n",
    "online['PurchaseTotal'] = online['Quantity']*online['UnitPrice']\n",
    "online['InvoiceDate'] = online['InvoiceDate'] + pd.to_timedelta(52*11, unit='W') # Year unit deprecated????? why?????\n",
    "online.head()"
   ]
  },
  {
   "cell_type": "markdown",
   "metadata": {},
   "source": [
    "# Enforcing Double-Entry Bookkeeping Compliant Format"
   ]
  },
  {
   "cell_type": "markdown",
   "metadata": {},
   "source": [
    "This dataset is simply formatted. In order to transform to Double-Entry, we must duplicate each row and specify debited and credited accounts so that our accounting equation is balanced."
   ]
  },
  {
   "cell_type": "code",
   "execution_count": 68,
   "metadata": {},
   "outputs": [],
   "source": [
    "online_cleaned = online.loc[(online['Description'].notna())&(online['Quantity'].notna())&(online['UnitPrice'].notna()) \\\n",
    "&(online['CustomerID'].notna())&(online['Country'].notna())]\n",
    "\n",
    "double_entry = pd.DataFrame(columns=schema_de.keys()).astype(schema_de)"
   ]
  },
  {
   "cell_type": "code",
   "execution_count": 67,
   "metadata": {},
   "outputs": [],
   "source": [
    "def create_double_entry(row):\n",
    "    debit_row = {\n",
    "        'InvoiceNo': row['InvoiceNo'],\n",
    "        'InvoiceDate': row['InvoiceDate'],\n",
    "        'Type': 'Debit',\n",
    "        'Account': 'Accounts Receivable',\n",
    "        'Amount': row['PurchaseTotal'],\n",
    "        'CustomerID': row['CustomerID'],\n",
    "        'Country': row['Country']\n",
    "    }\n",
    "\n",
    "    credit_row = {\n",
    "        'InvoiceNo': row['InvoiceNo'],\n",
    "        'InvoiceDate': row['InvoiceDate'],\n",
    "        'Type': 'Credit',\n",
    "        'Account': 'Revenue',\n",
    "        'Amount': row['PurchaseTotal'],\n",
    "        'CustomerID': row['CustomerID'],\n",
    "        'Country': row['Country']\n",
    "    }\n",
    "    return pd.DataFrame([debit_row, credit_row], columns=schema_de.keys())\n",
    "\n",
    "double_entry = pd.concat(online_cleaned.apply(create_double_entry, axis=1).to_list(), ignore_index=True)\n",
    "double_entry.to_csv('../data/double_entry_online_retail.csv', index=False)"
   ]
  }
 ],
 "metadata": {
  "kernelspec": {
   "display_name": "Python 3 (ipykernel)",
   "language": "python",
   "name": "python3"
  },
  "language_info": {
   "codemirror_mode": {
    "name": "ipython",
    "version": 3
   },
   "file_extension": ".py",
   "mimetype": "text/x-python",
   "name": "python",
   "nbconvert_exporter": "python",
   "pygments_lexer": "ipython3",
   "version": "3.10.13"
  }
 },
 "nbformat": 4,
 "nbformat_minor": 2
}
