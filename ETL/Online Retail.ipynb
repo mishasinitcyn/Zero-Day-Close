{
 "cells": [
  {
   "cell_type": "markdown",
   "metadata": {},
   "source": [
    "# Financial Accounting ETL"
   ]
  },
  {
   "cell_type": "markdown",
   "metadata": {},
   "source": [
    "This notebook transforms the [Online Retail](https://archive.ics.uci.edu/dataset/352/online+retail) dataset into a double-entry compliant bookkeeping format. Realistically, financial data would come from an ERP system (Workday, SAP) in this exact format."
   ]
  },
  {
   "cell_type": "code",
   "execution_count": 10,
   "metadata": {},
   "outputs": [],
   "source": [
    "import pandas as pd"
   ]
  },
  {
   "cell_type": "code",
   "execution_count": 22,
   "metadata": {},
   "outputs": [],
   "source": [
    "online_schema = {\n",
    "    'InvoiceNo': 'string',\n",
    "    'InvoiceDate': 'string',\n",
    "    'StockCode': 'string',\n",
    "    'Quantity': 'int64',\n",
    "    'UnitPrice' : 'float64',\n",
    "    'CustomerID' : 'string',\n",
    "    'Country' : 'string'\n",
    "}\n",
    "schema_de = {\n",
    "    'Date': 'string',\n",
    "    'Account': 'string',\n",
    "    'Debit': 'float64',\n",
    "    'Credit': 'float64',\n",
    "    'Category': 'string',\n",
    "    'Transaction Type': 'string',\n",
    "    'Customer_Vendor': 'string',\n",
    "    'Payment Method': 'string',\n",
    "    'Country': 'string'\n",
    "}"
   ]
  },
  {
   "cell_type": "code",
   "execution_count": 23,
   "metadata": {},
   "outputs": [
    {
     "data": {
      "text/html": [
       "<div>\n",
       "<style scoped>\n",
       "    .dataframe tbody tr th:only-of-type {\n",
       "        vertical-align: middle;\n",
       "    }\n",
       "\n",
       "    .dataframe tbody tr th {\n",
       "        vertical-align: top;\n",
       "    }\n",
       "\n",
       "    .dataframe thead th {\n",
       "        text-align: right;\n",
       "    }\n",
       "</style>\n",
       "<table border=\"1\" class=\"dataframe\">\n",
       "  <thead>\n",
       "    <tr style=\"text-align: right;\">\n",
       "      <th></th>\n",
       "      <th>InvoiceNo</th>\n",
       "      <th>StockCode</th>\n",
       "      <th>Description</th>\n",
       "      <th>Quantity</th>\n",
       "      <th>InvoiceDate</th>\n",
       "      <th>UnitPrice</th>\n",
       "      <th>CustomerID</th>\n",
       "      <th>Country</th>\n",
       "      <th>PurchaseTotal</th>\n",
       "    </tr>\n",
       "  </thead>\n",
       "  <tbody>\n",
       "    <tr>\n",
       "      <th>211295</th>\n",
       "      <td>555359</td>\n",
       "      <td>21974</td>\n",
       "      <td>SET OF 36 PAISLEY FLOWER DOILIES</td>\n",
       "      <td>1</td>\n",
       "      <td>2022-05-19</td>\n",
       "      <td>1.45</td>\n",
       "      <td>18135.0</td>\n",
       "      <td>United Kingdom</td>\n",
       "      <td>1.45</td>\n",
       "    </tr>\n",
       "    <tr>\n",
       "      <th>506613</th>\n",
       "      <td>579146</td>\n",
       "      <td>21479</td>\n",
       "      <td>WHITE SKULL HOT WATER BOTTLE</td>\n",
       "      <td>3</td>\n",
       "      <td>2022-11-14</td>\n",
       "      <td>4.25</td>\n",
       "      <td>16347.0</td>\n",
       "      <td>United Kingdom</td>\n",
       "      <td>12.75</td>\n",
       "    </tr>\n",
       "    <tr>\n",
       "      <th>203025</th>\n",
       "      <td>554511</td>\n",
       "      <td>35004B</td>\n",
       "      <td>SET OF 3 BLACK FLYING DUCKS</td>\n",
       "      <td>1</td>\n",
       "      <td>2022-05-10</td>\n",
       "      <td>5.79</td>\n",
       "      <td>&lt;NA&gt;</td>\n",
       "      <td>United Kingdom</td>\n",
       "      <td>5.79</td>\n",
       "    </tr>\n",
       "    <tr>\n",
       "      <th>344076</th>\n",
       "      <td>566981</td>\n",
       "      <td>85099C</td>\n",
       "      <td>JUMBO  BAG BAROQUE BLACK WHITE</td>\n",
       "      <td>10</td>\n",
       "      <td>2022-09-02</td>\n",
       "      <td>2.08</td>\n",
       "      <td>15498.0</td>\n",
       "      <td>United Kingdom</td>\n",
       "      <td>20.80</td>\n",
       "    </tr>\n",
       "    <tr>\n",
       "      <th>274567</th>\n",
       "      <td>560926</td>\n",
       "      <td>21327</td>\n",
       "      <td>SKULLS WRITING SET</td>\n",
       "      <td>1</td>\n",
       "      <td>2022-07-08</td>\n",
       "      <td>0.83</td>\n",
       "      <td>&lt;NA&gt;</td>\n",
       "      <td>United Kingdom</td>\n",
       "      <td>0.83</td>\n",
       "    </tr>\n",
       "  </tbody>\n",
       "</table>\n",
       "</div>"
      ],
      "text/plain": [
       "       InvoiceNo StockCode                       Description  Quantity  \\\n",
       "211295    555359     21974  SET OF 36 PAISLEY FLOWER DOILIES         1   \n",
       "506613    579146     21479     WHITE SKULL HOT WATER BOTTLE          3   \n",
       "203025    554511    35004B       SET OF 3 BLACK FLYING DUCKS         1   \n",
       "344076    566981    85099C    JUMBO  BAG BAROQUE BLACK WHITE        10   \n",
       "274567    560926     21327               SKULLS WRITING SET          1   \n",
       "\n",
       "       InvoiceDate  UnitPrice CustomerID         Country  PurchaseTotal  \n",
       "211295  2022-05-19       1.45    18135.0  United Kingdom           1.45  \n",
       "506613  2022-11-14       4.25    16347.0  United Kingdom          12.75  \n",
       "203025  2022-05-10       5.79       <NA>  United Kingdom           5.79  \n",
       "344076  2022-09-02       2.08    15498.0  United Kingdom          20.80  \n",
       "274567  2022-07-08       0.83       <NA>  United Kingdom           0.83  "
      ]
     },
     "execution_count": 23,
     "metadata": {},
     "output_type": "execute_result"
    }
   ],
   "source": [
    "online = pd.read_csv('../data/online_retail.csv', parse_dates=True, dtype=online_schema).sample(100000)\n",
    "online.to_csv('../data/online_retail_sampled.csv', index=False)\n",
    "online['InvoiceDate'] = pd.to_datetime(pd.to_datetime(online['InvoiceDate']).dt.date)\n",
    "online['PurchaseTotal'] = online['Quantity']*online['UnitPrice']\n",
    "online['InvoiceDate'] = online['InvoiceDate'] + pd.to_timedelta(52*11, unit='W')\n",
    "online.head()"
   ]
  },
  {
   "cell_type": "markdown",
   "metadata": {},
   "source": [
    "# Enforcing Double-Entry Bookkeeping Compliant Format"
   ]
  },
  {
   "cell_type": "markdown",
   "metadata": {},
   "source": [
    "This dataset is simply formatted. In order to transform to Double-Entry, we must duplicate each row and specify debited and credited accounts so that our accounting equation is balanced."
   ]
  },
  {
   "cell_type": "code",
   "execution_count": 24,
   "metadata": {},
   "outputs": [],
   "source": [
    "online_cleaned = online.loc[(online['Description'].notna())&(online['Quantity'].notna())&(online['UnitPrice'].notna()) \\\n",
    "&(online['CustomerID'].notna())&(online['Country'].notna())]\n",
    "\n",
    "double_entry = pd.DataFrame(columns=schema_de.keys()).astype(schema_de)"
   ]
  },
  {
   "cell_type": "code",
   "execution_count": 25,
   "metadata": {},
   "outputs": [],
   "source": [
    "def create_double_entry(row):\n",
    "    debit_row = {\n",
    "        'Date': row['InvoiceDate'],\n",
    "        'Account': 'Accounts Receivable',\n",
    "        'Debit': row['PurchaseTotal'],\n",
    "        'Credit': 0,\n",
    "        'Category': 'Revenue',\n",
    "        'Transaction Type': 'Sale',\n",
    "        'Customer_Vendor': row['CustomerID'],\n",
    "        'Payment Method': 'Credit Card',\n",
    "        'Country': row['Country']\n",
    "    }\n",
    "\n",
    "    credit_row = {\n",
    "        'Date': row['InvoiceDate'],\n",
    "        'Account': 'Sales Revenue',\n",
    "        'Debit': 0,\n",
    "        'Credit': row['PurchaseTotal'],\n",
    "        'Category': 'Revenue',\n",
    "        'Transaction Type': 'Sale',\n",
    "        'Customer_Vendor': row['CustomerID'],\n",
    "        'Payment Method': 'Credit Card',\n",
    "        'Country': row['Country']\n",
    "    }\n",
    "    return pd.DataFrame([debit_row, credit_row], columns=schema_de.keys())\n",
    "\n",
    "double_entry = pd.concat(online_cleaned.apply(create_double_entry, axis=1).to_list(), ignore_index=True)\n",
    "double_entry.to_csv('../data/double_entry_online_retail.csv', index=False)"
   ]
  }
 ],
 "metadata": {
  "kernelspec": {
   "display_name": "Python 3 (ipykernel)",
   "language": "python",
   "name": "python3"
  },
  "language_info": {
   "codemirror_mode": {
    "name": "ipython",
    "version": 3
   },
   "file_extension": ".py",
   "mimetype": "text/x-python",
   "name": "python",
   "nbconvert_exporter": "python",
   "pygments_lexer": "ipython3",
   "version": "3.10.13"
  }
 },
 "nbformat": 4,
 "nbformat_minor": 2
}
