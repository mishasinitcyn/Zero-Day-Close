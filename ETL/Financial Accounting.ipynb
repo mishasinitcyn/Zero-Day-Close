{
 "cells": [
  {
   "cell_type": "markdown",
   "metadata": {},
   "source": [
    "# Financial Accounting ETL"
   ]
  },
  {
   "cell_type": "markdown",
   "metadata": {},
   "source": [
    "This notebook transforms the [Financial Accounting](https://www.kaggle.com/datasets/jazidesigns/financial-accounting) dataset into a double-entry compliant bookkeeping format. Realistically, financial data would come from an ERP system (Workday, SAP) in this exact format."
   ]
  },
  {
   "cell_type": "code",
   "execution_count": 1,
   "metadata": {},
   "outputs": [],
   "source": [
    "import pandas as pd"
   ]
  },
  {
   "cell_type": "code",
   "execution_count": 2,
   "metadata": {},
   "outputs": [
    {
     "data": {
      "text/html": [
       "<div>\n",
       "<style scoped>\n",
       "    .dataframe tbody tr th:only-of-type {\n",
       "        vertical-align: middle;\n",
       "    }\n",
       "\n",
       "    .dataframe tbody tr th {\n",
       "        vertical-align: top;\n",
       "    }\n",
       "\n",
       "    .dataframe thead th {\n",
       "        text-align: right;\n",
       "    }\n",
       "</style>\n",
       "<table border=\"1\" class=\"dataframe\">\n",
       "  <thead>\n",
       "    <tr style=\"text-align: right;\">\n",
       "      <th></th>\n",
       "      <th>Date</th>\n",
       "      <th>Account</th>\n",
       "      <th>Description</th>\n",
       "      <th>Debit</th>\n",
       "      <th>Credit</th>\n",
       "      <th>Category</th>\n",
       "      <th>Transaction_Type</th>\n",
       "      <th>Customer_Vendor</th>\n",
       "      <th>Payment_Method</th>\n",
       "      <th>Reference</th>\n",
       "    </tr>\n",
       "  </thead>\n",
       "  <tbody>\n",
       "    <tr>\n",
       "      <th>0</th>\n",
       "      <td>2023-08-21</td>\n",
       "      <td>Accounts Payable</td>\n",
       "      <td>Transaction 1</td>\n",
       "      <td>112.56</td>\n",
       "      <td>112.56</td>\n",
       "      <td>Asset</td>\n",
       "      <td>Sale</td>\n",
       "      <td>Customer 39</td>\n",
       "      <td>Cash</td>\n",
       "      <td>67471</td>\n",
       "    </tr>\n",
       "    <tr>\n",
       "      <th>1</th>\n",
       "      <td>2023-08-13</td>\n",
       "      <td>Accounts Receivable</td>\n",
       "      <td>Transaction 2</td>\n",
       "      <td>775.86</td>\n",
       "      <td>775.86</td>\n",
       "      <td>Revenue</td>\n",
       "      <td>Purchase</td>\n",
       "      <td>Customer 3</td>\n",
       "      <td>Check</td>\n",
       "      <td>92688</td>\n",
       "    </tr>\n",
       "    <tr>\n",
       "      <th>2</th>\n",
       "      <td>2023-05-11</td>\n",
       "      <td>Accounts Receivable</td>\n",
       "      <td>Transaction 3</td>\n",
       "      <td>332.81</td>\n",
       "      <td>332.81</td>\n",
       "      <td>Revenue</td>\n",
       "      <td>Transfer</td>\n",
       "      <td>Customer 36</td>\n",
       "      <td>Check</td>\n",
       "      <td>72066</td>\n",
       "    </tr>\n",
       "    <tr>\n",
       "      <th>3</th>\n",
       "      <td>2023-02-26</td>\n",
       "      <td>Accounts Receivable</td>\n",
       "      <td>Transaction 4</td>\n",
       "      <td>203.71</td>\n",
       "      <td>203.71</td>\n",
       "      <td>Asset</td>\n",
       "      <td>Purchase</td>\n",
       "      <td>Customer 57</td>\n",
       "      <td>Check</td>\n",
       "      <td>27973</td>\n",
       "    </tr>\n",
       "    <tr>\n",
       "      <th>4</th>\n",
       "      <td>2023-11-06</td>\n",
       "      <td>Accounts Receivable</td>\n",
       "      <td>Transaction 5</td>\n",
       "      <td>986.26</td>\n",
       "      <td>986.26</td>\n",
       "      <td>Asset</td>\n",
       "      <td>Expense</td>\n",
       "      <td>Customer 92</td>\n",
       "      <td>Check</td>\n",
       "      <td>29758</td>\n",
       "    </tr>\n",
       "  </tbody>\n",
       "</table>\n",
       "</div>"
      ],
      "text/plain": [
       "         Date              Account    Description   Debit  Credit Category  \\\n",
       "0  2023-08-21     Accounts Payable  Transaction 1  112.56  112.56    Asset   \n",
       "1  2023-08-13  Accounts Receivable  Transaction 2  775.86  775.86  Revenue   \n",
       "2  2023-05-11  Accounts Receivable  Transaction 3  332.81  332.81  Revenue   \n",
       "3  2023-02-26  Accounts Receivable  Transaction 4  203.71  203.71    Asset   \n",
       "4  2023-11-06  Accounts Receivable  Transaction 5  986.26  986.26    Asset   \n",
       "\n",
       "  Transaction_Type Customer_Vendor Payment_Method  Reference  \n",
       "0             Sale     Customer 39           Cash      67471  \n",
       "1         Purchase      Customer 3          Check      92688  \n",
       "2         Transfer     Customer 36          Check      72066  \n",
       "3         Purchase     Customer 57          Check      27973  \n",
       "4          Expense     Customer 92          Check      29758  "
      ]
     },
     "execution_count": 2,
     "metadata": {},
     "output_type": "execute_result"
    }
   ],
   "source": [
    "df = pd.read_csv('../data/financial_accounting.csv')\n",
    "df.head()"
   ]
  },
  {
   "cell_type": "markdown",
   "metadata": {},
   "source": [
    "## Unnecessary Columns: Description and Reference"
   ]
  },
  {
   "cell_type": "code",
   "execution_count": null,
   "metadata": {},
   "outputs": [],
   "source": [
    "df.sort_values(by=['Reference','Customer_Vendor'], inplace=True)\n",
    "df"
   ]
  },
  {
   "cell_type": "code",
   "execution_count": null,
   "metadata": {},
   "outputs": [],
   "source": [
    "df[df['Description'].str.contains('Transaction') == False]"
   ]
  },
  {
   "cell_type": "markdown",
   "metadata": {},
   "source": [
    "As you can see in the above output, the reference column is not a unique identifier corresponding to any transaction or bookkeeping entry. The description column is also unnecessary, given that each value follows placeholder format \"Transaction #\". We can safely drop these two placeholder columns as they are irrelevant to the bookkeeping process and exploratory data analysis."
   ]
  },
  {
   "cell_type": "code",
   "execution_count": null,
   "metadata": {},
   "outputs": [],
   "source": [
    "df.drop(['Reference', 'Description'], axis=1, inplace=True)"
   ]
  },
  {
   "cell_type": "code",
   "execution_count": null,
   "metadata": {},
   "outputs": [],
   "source": [
    "new_df = df.iloc[0:0]"
   ]
  },
  {
   "cell_type": "markdown",
   "metadata": {},
   "source": [
    "# Enforcing Double-Entry Bookkeeping Compliant Format"
   ]
  },
  {
   "cell_type": "markdown",
   "metadata": {},
   "source": [
    "The dataset is not compliant with double-entry bookkeeping standards. Firstly, each transaction is recorded as a single entry with equal debit and credit amounts. Secondly, accounts are often miscategorized. The below transformations for each of the four observed account types will enforce double-entry bookkeeping standards and record any outliers for further analysis."
   ]
  },
  {
   "cell_type": "code",
   "execution_count": 3,
   "metadata": {},
   "outputs": [
    {
     "name": "stdout",
     "output_type": "stream",
     "text": [
      "['Accounts Payable' 'Accounts Receivable' 'Cash' 'Inventory']\n",
      "['Asset' 'Revenue' 'Expense' 'Liability']\n",
      "['Cash' 'Check' 'Credit Card' 'Bank Transfer']\n"
     ]
    }
   ],
   "source": [
    "print(df['Account'].unique())\n",
    "print(df['Category'].unique())\n",
    "print(df['Payment_Method'].unique())"
   ]
  },
  {
   "cell_type": "markdown",
   "metadata": {},
   "source": [
    "## Transformation 1: Accounts Receivable "
   ]
  },
  {
   "cell_type": "code",
   "execution_count": null,
   "metadata": {},
   "outputs": [],
   "source": [
    "for index, row in df[(df['Account'] == 'Accounts Receivable')].iterrows():\n",
    "    #Debit Entry\n",
    "    debit_entry = row.copy()\n",
    "    debit_entry['Credit'] = 0.0\n",
    "    debit_entry['Category'] = 'Asset'\n",
    "    new_df = new_df.append(debit_entry, ignore_index=True)\n",
    "\n",
    "    #Credit Entry\n",
    "    credit_entry = row.copy()\n",
    "    if row['Category'] == 'Revenue':\n",
    "        credit_entry['Account'] = 'Sales Revenue'\n",
    "        credit_entry['Category'] = 'Revenue'\n",
    "    elif row['Category'] == 'Asset':\n",
    "        credit_entry['Account'] = 'Asset Account'\n",
    "        credit_entry['Category'] = 'Asset'\n",
    "    elif row['Category'] == 'Expense':\n",
    "        credit_entry['Account'] = 'Expense Account'\n",
    "        credit_entry['Category'] = 'Expense'\n",
    "    elif row['Category'] == 'Liability':\n",
    "        credit_entry['Account'] = 'Liability Account'\n",
    "        credit_entry['Category'] = 'Liability'\n",
    "\n",
    "    credit_entry['Debit'] = 0.0\n",
    "    new_df = new_df.append(credit_entry, ignore_index=True)"
   ]
  },
  {
   "cell_type": "code",
   "execution_count": null,
   "metadata": {},
   "outputs": [],
   "source": [
    "df = df[~(df['Account'] == 'Accounts Receivable')]"
   ]
  },
  {
   "cell_type": "markdown",
   "metadata": {},
   "source": [
    "## Transformation 2: Accounts Payable"
   ]
  },
  {
   "cell_type": "code",
   "execution_count": null,
   "metadata": {},
   "outputs": [],
   "source": [
    "def is_cash_equivalent(payment_method):\n",
    "    return payment_method in [\"Cash\", \"Bank Transfer\"]"
   ]
  },
  {
   "cell_type": "code",
   "execution_count": null,
   "metadata": {},
   "outputs": [],
   "source": [
    "for index, row in df[(df['Account'] == 'Accounts Payable')].iterrows():\n",
    "    #Debit Entry\n",
    "    debit_entry = row.copy()\n",
    "    debit_entry['Credit'] = 0.0\n",
    "    \n",
    "    if row['Category'] == 'Asset':\n",
    "        debit_entry['Account'] = 'Inventory'\n",
    "\n",
    "    elif row['Category'] == 'Liability':\n",
    "        debit_entry['Account'] = 'Accounts Payable'\n",
    "\n",
    "    elif row['Category'] == 'Revenue':\n",
    "        debit_entry['Account'] = 'Accounts Payable'\n",
    "\n",
    "    elif row['Category'] == 'Expense':\n",
    "        debit_entry['Account'] = 'Expense Account'\n",
    "    \n",
    "    new_df = new_df.append(debit_entry, ignore_index=True)\n",
    "    \n",
    "\n",
    "    #Credit Entry\n",
    "    credit_entry = row.copy()\n",
    "    credit_entry['Debit'] = 0.0\n",
    "    \n",
    "    if row['Category'] == 'Revenue':\n",
    "        credit_entry['Account'] = 'Sales Revenue'\n",
    "        \n",
    "    elif row['Category'] == 'Expense' and is_cash_equivalent(row['Payment_Method']):\n",
    "        credit_entry['Account'] = 'Cash'\n",
    "    \n",
    "    elif row['Category'] == 'Liability':\n",
    "        #Settling an existing liability: credit Accounts Payable\n",
    "        credit_entry['Account'] = 'Accounts Payable'\n",
    "        \n",
    "    else:\n",
    "        credit_entry['Account'] = 'Accounts Payable' if row['Category'] in ['Asset', 'Expense'] else 'Other Payable Account'\n",
    "    \n",
    "    new_df = new_df.append(credit_entry, ignore_index=True)"
   ]
  },
  {
   "cell_type": "code",
   "execution_count": null,
   "metadata": {},
   "outputs": [],
   "source": [
    "df = df[~(df['Account'] == 'Accounts Payable')]"
   ]
  },
  {
   "cell_type": "markdown",
   "metadata": {},
   "source": [
    "## Transformation 3: Cash"
   ]
  },
  {
   "cell_type": "code",
   "execution_count": null,
   "metadata": {},
   "outputs": [],
   "source": [
    "for index, row in df[df['Account'] == 'Cash'].iterrows():\n",
    "    if row['Category'] == 'Revenue':\n",
    "        #Debit Entry - Increasing Cash (Asset) for Revenue\n",
    "        debit_entry = row.copy()\n",
    "        debit_entry['Credit'] = 0.0 \n",
    "        debit_entry['Category'] = 'Asset'\n",
    "        new_df = new_df.append(debit_entry, ignore_index=True)\n",
    "\n",
    "        #Credit Entry - Increasing Revenue\n",
    "        credit_entry = row.copy()\n",
    "        credit_entry['Debit'] = 0.0\n",
    "        credit_entry['Account'] = 'Sales Revenue'\n",
    "        credit_entry['Category'] = 'Revenue'\n",
    "        new_df = new_df.append(credit_entry, ignore_index=True)\n",
    "\n",
    "    elif row['Category'] == 'Expense':\n",
    "        #Debit Entry\n",
    "        debit_entry = row.copy()\n",
    "        debit_entry['Credit'] = 0.0\n",
    "        debit_entry['Account'] = 'Expense Account'\n",
    "        debit_entry['Category'] = 'Expense'\n",
    "        new_df = new_df.append(debit_entry, ignore_index=True)\n",
    "\n",
    "        #Credit Entry - Decreasing Cash (Asset)\n",
    "        credit_entry = row.copy()\n",
    "        credit_entry['Debit'] = 0.0\n",
    "        credit_entry['Account'] = 'Cash'\n",
    "        credit_entry['Category'] = 'Asset'\n",
    "        new_df = new_df.append(credit_entry, ignore_index=True)\n",
    "    elif row['Category'] == 'Liability':\n",
    "        #Debit Entry - Decreasing Liability\n",
    "        debit_entry = row.copy()\n",
    "        debit_entry['Credit'] = 0.0\n",
    "        debit_entry['Account'] = 'Liability Account'\n",
    "        debit_entry['Category'] = 'Liability'\n",
    "        new_df = new_df.append(debit_entry, ignore_index=True)\n",
    "\n",
    "        #Credit Entry - Decreasing Cash (Asset)\n",
    "        credit_entry = row.copy()\n",
    "        credit_entry['Debit'] = 0.0\n",
    "        credit_entry['Account'] = 'Cash'\n",
    "        credit_entry['Category'] = 'Asset'\n",
    "        new_df = new_df.append(credit_entry, ignore_index=True)\n",
    "    elif row['Category'] == 'Asset':\n",
    "        #Debit Entry - Acquiring Asset\n",
    "        debit_entry = row.copy()\n",
    "        debit_entry['Credit'] = 0.0\n",
    "        debit_entry['Account'] = 'Asset Account'\n",
    "        debit_entry['Category'] = 'Asset'\n",
    "        new_df = new_df.append(debit_entry, ignore_index=True)\n",
    "\n",
    "        #Credit Entry - Decreasing Cash (Asset)\n",
    "        credit_entry = row.copy()\n",
    "        credit_entry['Debit'] = 0.0\n",
    "        credit_entry['Account'] = 'Cash'\n",
    "        credit_entry['Category'] = 'Asset'\n",
    "        new_df = new_df.append(credit_entry, ignore_index=True)\n",
    "    else:\n",
    "        print(\"Error, unknown category for cash account:\", row['Category'])\n"
   ]
  },
  {
   "cell_type": "code",
   "execution_count": null,
   "metadata": {},
   "outputs": [],
   "source": [
    "df = df[~(df['Account'] == 'Cash')]"
   ]
  },
  {
   "cell_type": "markdown",
   "metadata": {},
   "source": [
    "## Transformation 4: Inventory"
   ]
  },
  {
   "cell_type": "code",
   "execution_count": null,
   "metadata": {},
   "outputs": [],
   "source": [
    "for index, row in df[df['Account'] == 'Inventory'].iterrows():\n",
    "    if row['Category'] == 'Expense':\n",
    "        #Debit Entry - Increasing Expense\n",
    "        debit_entry = row.copy()\n",
    "        debit_entry['Credit'] = 0.0\n",
    "        debit_entry['Account'] = 'Expense Account'\n",
    "        new_df = new_df.append(debit_entry, ignore_index=True)\n",
    "\n",
    "        #Credit Entry - Decreasing Inventory (Asset)\n",
    "        credit_entry = row.copy()\n",
    "        credit_entry['Debit'] = 0.0\n",
    "        credit_entry['Account'] = 'Inventory'\n",
    "        credit_entry['Category'] = 'Asset'\n",
    "        new_df = new_df.append(credit_entry, ignore_index=True)\n",
    "\n",
    "    elif row['Category'] == 'Asset':\n",
    "        #Debit Entry - Increasing Inventory (Asset)\n",
    "        debit_entry = row.copy()\n",
    "        debit_entry['Credit'] = 0.0\n",
    "        new_df = new_df.append(debit_entry, ignore_index=True)\n",
    "\n",
    "        #Credit Entry\n",
    "        credit_entry = row.copy()\n",
    "        credit_entry['Debit'] = 0.0\n",
    "        credit_entry['Account'] = 'Cash'\n",
    "        new_df = new_df.append(credit_entry, ignore_index=True)\n",
    "\n",
    "    elif row['Category'] == 'Liability':\n",
    "        #Debit Entry - Decreasing Liability\n",
    "        debit_entry = row.copy()\n",
    "        debit_entry['Credit'] = 0.0\n",
    "        debit_entry['Account'] = 'Liability Account'\n",
    "        new_df = new_df.append(debit_entry, ignore_index=True)\n",
    "\n",
    "        # Credit Entry - Decreasing Inventory (Asset)\n",
    "        credit_entry = row.copy()\n",
    "        credit_entry['Debit'] = 0.0\n",
    "        credit_entry['Account'] = 'Inventory'\n",
    "        credit_entry['Category'] = 'Asset'\n",
    "        new_df = new_df.append(credit_entry, ignore_index=True)\n",
    "\n",
    "    elif row['Category'] == 'Revenue':\n",
    "        #Debit Entry - Decreasing Inventory (Asset)\n",
    "        debit_entry = row.copy()\n",
    "        debit_entry['Credit'] = 0.0\n",
    "        debit_entry['Account'] = 'Inventory'\n",
    "        debit_entry['Category'] = 'Asset'\n",
    "        new_df = new_df.append(debit_entry, ignore_index=True)\n",
    "\n",
    "        #Credit Entry - Increasing Revenue\n",
    "        credit_entry = row.copy()\n",
    "        credit_entry['Debit'] = 0.0\n",
    "        credit_entry['Account'] = 'Revenue Account'\n",
    "        credit_entry['Category'] = 'Revenue'\n",
    "        new_df = new_df.append(credit_entry, ignore_index=True)"
   ]
  },
  {
   "cell_type": "code",
   "execution_count": null,
   "metadata": {},
   "outputs": [],
   "source": [
    "df = df[~(df['Account'] == 'Inventory')]"
   ]
  },
  {
   "cell_type": "code",
   "execution_count": null,
   "metadata": {},
   "outputs": [],
   "source": [
    "#original dataframe should be empty\n",
    "df"
   ]
  },
  {
   "cell_type": "code",
   "execution_count": null,
   "metadata": {},
   "outputs": [],
   "source": [
    "new_df.to_csv('../data/double_entry_financial_accounting.csv', index=False)"
   ]
  },
  {
   "cell_type": "code",
   "execution_count": null,
   "metadata": {},
   "outputs": [],
   "source": []
  }
 ],
 "metadata": {
  "kernelspec": {
   "display_name": "base",
   "language": "python",
   "name": "python3"
  },
  "language_info": {
   "codemirror_mode": {
    "name": "ipython",
    "version": 3
   },
   "file_extension": ".py",
   "mimetype": "text/x-python",
   "name": "python",
   "nbconvert_exporter": "python",
   "pygments_lexer": "ipython3",
   "version": "3.9.13"
  }
 },
 "nbformat": 4,
 "nbformat_minor": 2
}
