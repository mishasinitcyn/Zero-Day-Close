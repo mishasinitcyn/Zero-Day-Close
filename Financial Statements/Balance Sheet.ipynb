{
 "cells": [
  {
   "cell_type": "markdown",
   "metadata": {},
   "source": [
    "# Balance Sheet"
   ]
  },
  {
   "cell_type": "code",
   "execution_count": 1,
   "metadata": {},
   "outputs": [],
   "source": [
    "import pandas as pd\n",
    "import numpy as np\n",
    "import matplotlib.pyplot as plt\n",
    "import seaborn as sns\n",
    "import scipy.stats as stats\n",
    "from scipy.stats import chi2_contingency\n",
    "from sklearn.cluster import KMeans\n",
    "import matplotlib.dates as mdates\n",
    "from statsmodels.stats.multicomp import pairwise_tukeyhsd"
   ]
  },
  {
   "cell_type": "markdown",
   "metadata": {},
   "source": [
    "## Financial Accounting"
   ]
  },
  {
   "cell_type": "code",
   "execution_count": 16,
   "metadata": {},
   "outputs": [],
   "source": [
    "financial_df  = pd.read_csv('../data/double_entry_financial_accounting.csv')\n",
    "financial_df ['Date'] = pd.to_datetime(financial_df ['Date'])\n",
    "financial_df ['Date'] = financial_df ['Date'] - pd.DateOffset(years=1)\n",
    "financial_df .rename(columns={'Transaction_Type': 'Transaction Type', 'Payment_Method': 'Payment Method'}, inplace=True)"
   ]
  },
  {
   "cell_type": "code",
   "execution_count": 19,
   "metadata": {},
   "outputs": [
    {
     "name": "stdout",
     "output_type": "stream",
     "text": [
      "['Transfer' 'Sale' 'Expense' 'Purchase']\n",
      "['Asset' 'Expense' 'Liability' 'Revenue']\n",
      "['Cash' 'Credit Card' 'Check' 'Bank Transfer']\n",
      "['Accounts Receivable' 'Expense Account' 'Liability Account'\n",
      " 'Asset Account' 'Sales Revenue' 'Accounts Payable' 'Inventory' 'Cash'\n",
      " 'Revenue Account']\n"
     ]
    }
   ],
   "source": [
    "print(financial_df['Transaction Type'].unique())\n",
    "print(financial_df['Category'].unique())\n",
    "print(financial_df['Payment Method'].unique())\n",
    "print(financial_df['Account'].unique())"
   ]
  },
  {
   "cell_type": "code",
   "execution_count": 22,
   "metadata": {},
   "outputs": [
    {
     "name": "stdout",
     "output_type": "stream",
     "text": [
      "      Category       Total\n",
      "0       Assets  6124640.37\n",
      "1  Liabilities  1763241.09\n",
      "2       Equity  4361399.28\n"
     ]
    }
   ],
   "source": [
    "financial_df['Balance'] = financial_df['Debit'] - financial_df['Credit']\n",
    "account_balances = financial_df.groupby('Account')['Balance'].sum()\n",
    "\n",
    "assets = ['Accounts Receivable', 'Cash', 'Inventory', 'Asset Account']\n",
    "liabilities = ['Accounts Payable', 'Liability Account']\n",
    "equity = ['Sales Revenue', 'Expense Account', 'Revenue Account']\n",
    "\n",
    "total_assets = account_balances[assets].sum()\n",
    "total_liabilities = account_balances[liabilities].sum()\n",
    "total_equity = account_balances[equity].sum()\n",
    "\n",
    "if 'Equity' not in account_balances:\n",
    "    total_equity = total_assets - total_liabilities\n",
    "\n",
    "balance_sheet = pd.DataFrame({\n",
    "    'Category': ['Assets', 'Liabilities', 'Equity'],\n",
    "    'Total': [total_assets, total_liabilities, total_equity]\n",
    "})\n",
    "\n",
    "print(balance_sheet)"
   ]
  },
  {
   "cell_type": "code",
   "execution_count": 20,
   "metadata": {},
   "outputs": [
    {
     "name": "stdout",
     "output_type": "stream",
     "text": [
      "                                    Assets  Liabilities  Equity\n",
      "Accounts Payable    Asset      -3877192.05         0.00     0.0\n",
      "                    Liability         0.00         0.00     0.0\n",
      "Accounts Receivable Asset      15272312.94         0.00     0.0\n",
      "Asset Account       Asset         24507.99         0.00     0.0\n",
      "Cash                Asset     -11252396.69         0.00     0.0\n",
      "Inventory           Asset       3935363.86         0.00     0.0\n",
      "Liability Account   Liability         0.00   3717127.19     0.0\n",
      "T                   o                 0.00         0.00     0.0\n"
     ]
    },
    {
     "name": "stderr",
     "output_type": "stream",
     "text": [
      "c:\\Users\\misha\\anaconda3\\lib\\site-packages\\pandas\\core\\indexes\\multi.py:3635: RuntimeWarning: The values in the array are unorderable. Pass `sort=False` to suppress this warning.\n",
      "  result = lib.fast_unique_multiple([self._values, rvals], sort=sort)\n"
     ]
    }
   ],
   "source": [
    "\"\"\"\n",
    "# Calculate the balances for each account\n",
    "financial_df['Balance'] = financial_df['Debit'] - financial_df['Credit']\n",
    "account_balances = financial_df.groupby(['Account', 'Category'])['Balance'].sum()\n",
    "\n",
    "# Separate into Assets, Liabilities, and Equity\n",
    "assets = account_balances[account_balances.index.get_level_values('Category') == 'Asset']\n",
    "liabilities = account_balances[account_balances.index.get_level_values('Category') == 'Liability']\n",
    "# Assuming Equity is calculated as a residual\n",
    "equity = assets.sum() - liabilities.sum()\n",
    "\n",
    "# Construct the Balance Sheet\n",
    "balance_sheet = pd.DataFrame({\n",
    "    'Assets': assets,\n",
    "    'Liabilities': liabilities,\n",
    "    'Equity': pd.Series({'Total Equity': equity})\n",
    "})\n",
    "\n",
    "# Fill NaNs with zeros for a cleaner presentation\n",
    "balance_sheet.fillna(0, inplace=True)\n",
    "\n",
    "# Display the Balance Sheet\n",
    "print(balance_sheet)\n",
    "\"\"\""
   ]
  },
  {
   "cell_type": "markdown",
   "metadata": {},
   "source": [
    "## Managerial Accounting"
   ]
  },
  {
   "cell_type": "code",
   "execution_count": 17,
   "metadata": {},
   "outputs": [],
   "source": [
    "managerial_df  = pd.read_csv('../data/double_entry_managerial_accounting.csv')\n",
    "managerial_df['Date'] = pd.to_datetime(managerial_df ['Date'])"
   ]
  },
  {
   "cell_type": "code",
   "execution_count": 18,
   "metadata": {},
   "outputs": [
    {
     "name": "stdout",
     "output_type": "stream",
     "text": [
      "['Expense' 'Liability Payment' 'Revenue' 'Asset Purchase']\n",
      "['Utilities' 'Supplies' 'Salaries' 'Rent' 'Assets' 'Loans' 'Royalties'\n",
      " 'Service Revenue' 'Product Sales']\n",
      "['Marketing' 'HR' 'Sales' 'Finance']\n",
      "['Project B' 'Project D' 'Project C' 'Project A']\n",
      "['Expense Account' 'Cash' 'Asset Account' 'Revenue Account']\n"
     ]
    }
   ],
   "source": [
    "print(managerial_df['Transaction Type'].unique())\n",
    "print(managerial_df['Category'].unique())\n",
    "print(managerial_df['Department'].unique())\n",
    "print(managerial_df['Project'].unique())\n",
    "print(managerial_df['Account'].unique())"
   ]
  },
  {
   "cell_type": "code",
   "execution_count": 24,
   "metadata": {},
   "outputs": [
    {
     "name": "stdout",
     "output_type": "stream",
     "text": [
      "      Category        Total\n",
      "0       Assets  57560296.75\n",
      "1  Liabilities         0.00\n",
      "2       Equity  57560296.75\n"
     ]
    }
   ],
   "source": [
    "# Calculate the balances for each account\n",
    "managerial_df['Balance'] = managerial_df['Debit'] - managerial_df['Credit']\n",
    "account_balances = managerial_df.groupby('Account')['Balance'].sum()\n",
    "\n",
    "# Define the categories for assets, liabilities, and equity\n",
    "assets = ['Cash', 'Asset Account']\n",
    "liabilities = ['Accounts Payable']\n",
    "equity = ['Revenue Account', 'Expense Account']  # Modify as needed\n",
    "\n",
    "# Calculate the total for each category\n",
    "total_assets = account_balances.reindex(assets).sum()\n",
    "total_liabilities = account_balances.reindex(liabilities).sum()\n",
    "total_equity = account_balances.reindex(equity).sum()\n",
    "\n",
    "# Equity might also be calculated as Assets minus Liabilities\n",
    "if 'Equity Account' not in account_balances:\n",
    "    total_equity = total_assets - total_liabilities\n",
    "\n",
    "# Create the balance sheet\n",
    "balance_sheet = pd.DataFrame({\n",
    "    'Category': ['Assets', 'Liabilities', 'Equity'],\n",
    "    'Total': [total_assets, total_liabilities, total_equity]\n",
    "})\n",
    "\n",
    "# Print the balance sheet\n",
    "print(balance_sheet)"
   ]
  },
  {
   "cell_type": "code",
   "execution_count": null,
   "metadata": {},
   "outputs": [],
   "source": []
  }
 ],
 "metadata": {
  "kernelspec": {
   "display_name": "base",
   "language": "python",
   "name": "python3"
  },
  "language_info": {
   "codemirror_mode": {
    "name": "ipython",
    "version": 3
   },
   "file_extension": ".py",
   "mimetype": "text/x-python",
   "name": "python",
   "nbconvert_exporter": "python",
   "pygments_lexer": "ipython3",
   "version": "3.9.13"
  }
 },
 "nbformat": 4,
 "nbformat_minor": 2
}
