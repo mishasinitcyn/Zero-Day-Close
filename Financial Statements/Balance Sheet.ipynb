{
 "cells": [
  {
   "cell_type": "markdown",
   "metadata": {},
   "source": [
    "# Balance Sheet"
   ]
  },
  {
   "cell_type": "code",
   "execution_count": 1,
   "metadata": {},
   "outputs": [],
   "source": [
    "import pandas as pd\n",
    "import numpy as np\n",
    "import matplotlib.pyplot as plt\n",
    "import seaborn as sns\n",
    "import scipy.stats as stats\n",
    "from scipy.stats import chi2_contingency\n",
    "from sklearn.cluster import KMeans\n",
    "import matplotlib.dates as mdates\n",
    "from statsmodels.stats.multicomp import pairwise_tukeyhsd"
   ]
  },
  {
   "cell_type": "markdown",
   "metadata": {},
   "source": [
    "## Financial Accounting"
   ]
  },
  {
   "cell_type": "code",
   "execution_count": 2,
   "metadata": {},
   "outputs": [],
   "source": [
    "financial_df  = pd.read_csv('../data/double_entry_financial_accounting.csv')\n",
    "financial_df ['Date'] = pd.to_datetime(financial_df ['Date'])\n",
    "financial_df ['Date'] = financial_df ['Date'] - pd.DateOffset(years=1)\n",
    "financial_df .rename(columns={'Transaction_Type': 'Transaction Type', 'Payment_Method': 'Payment Method'}, inplace=True)"
   ]
  },
  {
   "cell_type": "code",
   "execution_count": 3,
   "metadata": {},
   "outputs": [
    {
     "name": "stdout",
     "output_type": "stream",
     "text": [
      "Assets:\n",
      "               Account      Balance\n",
      "0  Accounts Receivable  15272312.94\n",
      "1                 Cash -13107544.42\n",
      "2            Inventory   3935363.86\n",
      "3        Asset Account     24507.99\n",
      "\n",
      "Liabilities:\n",
      "             Account     Balance\n",
      "0   Accounts Payable  1953886.10\n",
      "1  Liability Account -3717127.19\n",
      "\n",
      "Equity:\n",
      "           Account      Balance\n",
      "0    Sales Revenue  11394054.61\n",
      "1  Expense Account  -7380479.70\n",
      "2  Revenue Account   3874306.55\n"
     ]
    }
   ],
   "source": [
    "financial_df['Balance'] = financial_df['Debit'] - financial_df['Credit']\n",
    "account_balances = financial_df.groupby('Account')['Balance'].sum()\n",
    "\n",
    "financial_assets = ['Accounts Receivable', 'Cash', 'Inventory', 'Asset Account']\n",
    "financial_liabilities = ['Accounts Payable', 'Liability Account']\n",
    "financial_equity = ['Sales Revenue', 'Expense Account', 'Revenue Account']\n",
    "\n",
    "financial_assets_df = account_balances[financial_assets].reset_index()\n",
    "financial_liabilities_df = account_balances[financial_liabilities].reset_index()\n",
    "financial_equity_df = account_balances[financial_equity].reset_index()\n",
    "\n",
    "#Reverse the sign of the liabilities and equity because they are on the RHS of the accounting equation\n",
    "financial_liabilities_df['Balance'] = financial_liabilities_df['Balance'] * -1\n",
    "financial_equity_df['Balance'] = financial_equity_df['Balance'] * -1\n",
    "\n",
    "financial_assets_df.columns = ['Account', 'Balance']\n",
    "financial_liabilities_df.columns = ['Account', 'Balance']\n",
    "financial_equity_df.columns = ['Account', 'Balance']\n",
    "\n",
    "print(\"Assets:\")\n",
    "print(financial_assets_df)\n",
    "print(\"\\nLiabilities:\")\n",
    "print(financial_liabilities_df)\n",
    "print(\"\\nEquity:\")\n",
    "print(financial_equity_df)"
   ]
  },
  {
   "cell_type": "markdown",
   "metadata": {},
   "source": [
    "## Managerial Accounting"
   ]
  },
  {
   "cell_type": "code",
   "execution_count": 4,
   "metadata": {},
   "outputs": [],
   "source": [
    "managerial_df  = pd.read_csv('../data/double_entry_managerial_accounting.csv')\n",
    "managerial_df['Date'] = pd.to_datetime(managerial_df ['Date'])"
   ]
  },
  {
   "cell_type": "code",
   "execution_count": 5,
   "metadata": {},
   "outputs": [
    {
     "name": "stdout",
     "output_type": "stream",
     "text": [
      "Assets:\n",
      "         Account      Balance\n",
      "0           Cash -54839826.81\n",
      "1  Asset Account 112400123.56\n",
      "\n",
      "Liabilities:\n",
      "            Account  Balance\n",
      "0  Accounts Payable    -0.00\n",
      "\n",
      "Equity:\n",
      "           Account      Balance\n",
      "0  Revenue Account  77262623.47\n",
      "1  Expense Account -19702326.72\n"
     ]
    }
   ],
   "source": [
    "managerial_df['Balance'] = managerial_df['Debit'] - managerial_df['Credit']\n",
    "account_balances = managerial_df.groupby('Account')['Balance'].sum()\n",
    "\n",
    "managerial_assets = ['Cash', 'Asset Account']\n",
    "managerial_liabilities = ['Accounts Payable']\n",
    "managerial_equity = ['Revenue Account', 'Expense Account']\n",
    "\n",
    "managerial_assets_df = account_balances.reindex(managerial_assets).fillna(0).reset_index()\n",
    "managerial_liabilities_df = account_balances.reindex(managerial_liabilities).fillna(0).reset_index()\n",
    "managerial_equity_df = account_balances.reindex(managerial_equity).fillna(0).reset_index()\n",
    "\n",
    "#Reverse the sign of the liabilities and equity because they are on the RHS of the accounting equation\n",
    "managerial_liabilities_df['Balance'] = managerial_liabilities_df['Balance'] * -1\n",
    "managerial_equity_df['Balance'] = managerial_equity_df['Balance'] * -1\n",
    "\n",
    "managerial_assets_df.columns = ['Account', 'Balance']\n",
    "managerial_liabilities_df.columns = ['Account', 'Balance']\n",
    "managerial_equity_df.columns = ['Account', 'Balance']\n",
    "\n",
    "pd.options.display.float_format = '{:.2f}'.format\n",
    "\n",
    "print(\"Assets:\")\n",
    "print(managerial_assets_df)\n",
    "print(\"\\nLiabilities:\")\n",
    "print(managerial_liabilities_df)\n",
    "print(\"\\nEquity:\")\n",
    "print(managerial_equity_df)"
   ]
  },
  {
   "cell_type": "markdown",
   "metadata": {},
   "source": [
    "## Online Retail"
   ]
  },
  {
   "cell_type": "code",
   "execution_count": 6,
   "metadata": {},
   "outputs": [],
   "source": [
    "online_retail_df  = pd.read_csv('../data/double_entry_online_retail.csv')"
   ]
  },
  {
   "cell_type": "code",
   "execution_count": 7,
   "metadata": {},
   "outputs": [
    {
     "name": "stdout",
     "output_type": "stream",
     "text": [
      "Assets:\n",
      "               Account    Balance\n",
      "0  Accounts Receivable 1559176.95\n",
      "\n",
      "Equity:\n",
      "         Account    Balance\n",
      "0  Sales Revenue 1559176.95\n"
     ]
    }
   ],
   "source": [
    "online_retail_df['Date'] = pd.to_datetime(online_retail_df['Date'])\n",
    "\n",
    "online_retail_df['Balance'] = online_retail_df['Debit'] - online_retail_df['Credit']\n",
    "account_balances = online_retail_df.groupby('Account')['Balance'].sum()\n",
    "\n",
    "online_retail_assets = ['Accounts Receivable']\n",
    "online_retail_equity = ['Sales Revenue']\n",
    "\n",
    "online_retail_assets_df = account_balances.reindex(online_retail_assets).reset_index()\n",
    "online_retail_equity_df = account_balances.reindex(online_retail_equity).reset_index()\n",
    "\n",
    "#Reverse the sign of the liabilities and equity because they are on the RHS of the accounting equation\n",
    "online_retail_equity_df['Balance'] = online_retail_equity_df['Balance'] * -1\n",
    "\n",
    "online_retail_assets_df.columns = ['Account', 'Balance']\n",
    "online_retail_equity_df.columns = ['Account', 'Balance']\n",
    "\n",
    "liabilities_df = pd.DataFrame({'Account': ['No Liabilities'], 'Balance': [0.0]})\n",
    "\n",
    "print(\"Assets:\")\n",
    "print(online_retail_assets_df)\n",
    "print(\"\\nEquity:\")\n",
    "print(online_retail_equity_df)"
   ]
  },
  {
   "cell_type": "markdown",
   "metadata": {},
   "source": [
    "## Final Balance Sheet"
   ]
  },
  {
   "cell_type": "code",
   "execution_count": 8,
   "metadata": {},
   "outputs": [
    {
     "name": "stdout",
     "output_type": "stream",
     "text": [
      "Assets:\n",
      "               Account      Balance\n",
      "1  Accounts Receivable  16831489.89\n",
      "2        Asset Account 112424631.55\n",
      "3                 Cash -67947371.23\n",
      "5            Inventory   3935363.86\n",
      "\n",
      "Liabilities:\n",
      "             Account     Balance\n",
      "0   Accounts Payable  1953886.10\n",
      "6  Liability Account -3717127.19\n",
      "\n",
      "Equity:\n",
      "           Account      Balance\n",
      "4  Expense Account -27082806.42\n",
      "7  Revenue Account  81136930.02\n",
      "8    Sales Revenue  12953231.56\n"
     ]
    }
   ],
   "source": [
    "combined_df = pd.concat([\n",
    "    financial_assets_df, financial_liabilities_df, financial_equity_df,\n",
    "    managerial_assets_df, managerial_liabilities_df, managerial_equity_df,\n",
    "    online_retail_assets_df, online_retail_equity_df\n",
    "])\n",
    "\n",
    "combined_balances = combined_df.groupby('Account')['Balance'].sum().reset_index()\n",
    "\n",
    "assets_accounts = set(financial_assets + managerial_assets + online_retail_assets)\n",
    "liabilities_accounts = set(financial_liabilities + managerial_liabilities)\n",
    "equity_accounts = set(financial_equity + managerial_equity + online_retail_equity)\n",
    "\n",
    "assets_df = combined_balances[combined_balances['Account'].isin(assets_accounts)]\n",
    "liabilities_df = combined_balances[combined_balances['Account'].isin(liabilities_accounts)]\n",
    "equity_df = combined_balances[combined_balances['Account'].isin(equity_accounts)]\n",
    "\n",
    "print(\"Assets:\")\n",
    "print(assets_df)\n",
    "print(\"\\nLiabilities:\")\n",
    "print(liabilities_df)\n",
    "print(\"\\nEquity:\")\n",
    "print(equity_df)"
   ]
  }
 ],
 "metadata": {
  "kernelspec": {
   "display_name": "base",
   "language": "python",
   "name": "python3"
  },
  "language_info": {
   "codemirror_mode": {
    "name": "ipython",
    "version": 3
   },
   "file_extension": ".py",
   "mimetype": "text/x-python",
   "name": "python",
   "nbconvert_exporter": "python",
   "pygments_lexer": "ipython3",
   "version": "3.9.13"
  }
 },
 "nbformat": 4,
 "nbformat_minor": 2
}
