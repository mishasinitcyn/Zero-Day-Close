{
 "cells": [
  {
   "cell_type": "markdown",
   "metadata": {},
   "source": [
    "# Income Statement"
   ]
  },
  {
   "cell_type": "code",
   "execution_count": 1,
   "metadata": {},
   "outputs": [],
   "source": [
    "import pandas as pd\n",
    "import numpy as np"
   ]
  },
  {
   "cell_type": "markdown",
   "metadata": {},
   "source": [
    "## Financial Accounting"
   ]
  },
  {
   "cell_type": "code",
   "execution_count": 2,
   "metadata": {},
   "outputs": [
    {
     "name": "stdout",
     "output_type": "stream",
     "text": [
      "         Category       Amount\n",
      "0   Total Revenue  11464357.68\n",
      "1  Total Expenses   3644634.44\n",
      "2      Net Income   7819723.24\n"
     ]
    }
   ],
   "source": [
    "financial_df = pd.read_csv('../data/double_entry_financial_accounting.csv')\n",
    "\n",
    "financial_df['Date'] = pd.to_datetime(financial_df['Date'])\n",
    "financial_df['Date'] = financial_df['Date'] - pd.DateOffset(years=1)\n",
    "\n",
    "financial_df.rename(columns={'Transaction_Type': 'Transaction Type', 'Payment_Method': 'Payment Method'}, inplace=True)\n",
    "\n",
    "financial_revenue_df = financial_df[(financial_df['Category'] == 'Revenue')]\n",
    "financial_expense_df = financial_df[(financial_df['Category'] == 'Expense')]\n",
    "\n",
    "financial_total_revenue = financial_revenue_df['Credit'].sum() - financial_revenue_df['Debit'].sum()\n",
    "\n",
    "financial_total_expenses = financial_expense_df['Debit'].sum() - financial_expense_df['Credit'].sum()\n",
    "\n",
    "financial_net_income = financial_total_revenue - financial_total_expenses\n",
    "\n",
    "financial_income_statement = pd.DataFrame({\n",
    "    'Category': ['Total Revenue', 'Total Expenses', 'Net Income'],\n",
    "    'Amount': [financial_total_revenue, financial_total_expenses, financial_net_income]\n",
    "})\n",
    "\n",
    "print(financial_income_statement)"
   ]
  },
  {
   "cell_type": "markdown",
   "metadata": {},
   "source": [
    "## Managerial Accounting"
   ]
  },
  {
   "cell_type": "code",
   "execution_count": 3,
   "metadata": {},
   "outputs": [
    {
     "name": "stdout",
     "output_type": "stream",
     "text": [
      "           Account  Total Revenue  Total Expense   Net Income\n",
      "0             Cash   -77262623.47   -19702326.72 -57560296.75\n",
      "1  Revenue Account    77262623.47           0.00  77262623.47\n",
      "2  Expense Account           0.00    19702326.72 -19702326.72\n"
     ]
    }
   ],
   "source": [
    "managerial_df = pd.read_csv('../data/double_entry_managerial_accounting.csv')\n",
    "\n",
    "managerial_df['Date'] = pd.to_datetime(managerial_df['Date'])\n",
    "\n",
    "managerial_revenue_df = managerial_df[managerial_df['Transaction Type'] == 'Revenue']\n",
    "managerial_expense_df = managerial_df[managerial_df['Transaction Type'] == 'Expense']\n",
    "\n",
    "managerial_revenue_totals = managerial_revenue_df.groupby('Account').apply(lambda x: x['Credit'].sum() - x['Debit'].sum()).reset_index(name='Total Revenue')\n",
    "managerial_expense_totals = managerial_expense_df.groupby('Account').apply(lambda x: x['Debit'].sum() - x['Credit'].sum()).reset_index(name='Total Expense')\n",
    "\n",
    "managerial_income_statement = pd.merge(managerial_revenue_totals, managerial_expense_totals, on='Account', how='outer')\n",
    "managerial_income_statement.fillna(0.0, inplace=True)\n",
    "managerial_income_statement['Net Income'] = managerial_income_statement['Total Revenue'] - managerial_income_statement['Total Expense']\n",
    "\n",
    "print(managerial_income_statement)"
   ]
  },
  {
   "cell_type": "markdown",
   "metadata": {},
   "source": [
    "## Online Retail"
   ]
  },
  {
   "cell_type": "code",
   "execution_count": 4,
   "metadata": {},
   "outputs": [
    {
     "name": "stdout",
     "output_type": "stream",
     "text": [
      "              Category      Amount\n",
      "0  Total Sales Revenue  1559176.95\n"
     ]
    }
   ],
   "source": [
    "online_retail_df = pd.read_csv('../data/double_entry_online_retail.csv')\n",
    "\n",
    "online_retail_df['Date'] = pd.to_datetime(online_retail_df['Date'])\n",
    "\n",
    "online_retail_df = online_retail_df[online_retail_df['Account'] == 'Sales Revenue']\n",
    "\n",
    "online_retail_revenue = online_retail_df['Credit'].sum()\n",
    "\n",
    "online_retail_income_statement = pd.DataFrame({\n",
    "    'Category': ['Total Sales Revenue'],\n",
    "    'Amount': [online_retail_revenue]\n",
    "})\n",
    "\n",
    "print(online_retail_income_statement)"
   ]
  },
  {
   "cell_type": "markdown",
   "metadata": {},
   "source": [
    "## Final Income Statement"
   ]
  },
  {
   "cell_type": "code",
   "execution_count": 5,
   "metadata": {},
   "outputs": [
    {
     "name": "stdout",
     "output_type": "stream",
     "text": [
      "                                    Category       Amount\n",
      "0                    Financial Total Revenue  11464357.68\n",
      "1                   Financial Total Expenses   3644634.44\n",
      "2                       Financial Net Income   7819723.24\n",
      "3                      Managerial Net Income         0.00\n",
      "4                      Online Retail Revenue   1559176.95\n",
      "Overall Net Income        Overall Net Income  24487892.31\n"
     ]
    }
   ],
   "source": [
    "financial_df = pd.read_csv('../data/double_entry_financial_accounting.csv')\n",
    "managerial_df = pd.read_csv('../data/double_entry_managerial_accounting.csv')\n",
    "online_retail_df = pd.read_csv('../data/double_entry_online_retail.csv')\n",
    "\n",
    "financial_df['Date'] = pd.to_datetime(financial_df['Date']) - pd.DateOffset(years=1)\n",
    "managerial_df['Date'] = pd.to_datetime(managerial_df['Date'])\n",
    "online_retail_df['Date'] = pd.to_datetime(online_retail_df['Date'])\n",
    "\n",
    "financial_df.rename(columns={'Transaction_Type': 'Transaction Type', 'Payment_Method': 'Payment Method'}, inplace=True)\n",
    "\n",
    "financial_revenue_df = financial_df[(financial_df['Category'] == 'Revenue')]\n",
    "financial_expense_df = financial_df[(financial_df['Category'] == 'Expense')]\n",
    "financial_total_revenue = financial_revenue_df['Credit'].sum() - financial_revenue_df['Debit'].sum()\n",
    "financial_total_expenses = financial_expense_df['Debit'].sum() - financial_expense_df['Credit'].sum()\n",
    "financial_net_income = financial_total_revenue - financial_total_expenses\n",
    "\n",
    "managerial_revenue_df = managerial_df[managerial_df['Transaction Type'] == 'Revenue']\n",
    "managerial_expense_df = managerial_df[managerial_df['Transaction Type'] == 'Expense']\n",
    "managerial_revenue_totals = managerial_revenue_df.groupby('Account').apply(lambda x: x['Credit'].sum() - x['Debit'].sum()).reset_index(name='Total Revenue')\n",
    "managerial_expense_totals = managerial_expense_df.groupby('Account').apply(lambda x: x['Debit'].sum() - x['Credit'].sum()).reset_index(name='Total Expense')\n",
    "managerial_income_statement = pd.merge(managerial_revenue_totals, managerial_expense_totals, on='Account', how='outer')\n",
    "managerial_income_statement.fillna(0.0, inplace=True)\n",
    "managerial_net_income = managerial_income_statement['Total Revenue'].sum() - managerial_income_statement['Total Expense'].sum()\n",
    "\n",
    "online_retail_df = online_retail_df[online_retail_df['Account'] == 'Sales Revenue']\n",
    "online_retail_revenue = online_retail_df['Credit'].sum()\n",
    "\n",
    "combined_income_statement = pd.DataFrame({\n",
    "    'Category': ['Financial Total Revenue', 'Financial Total Expenses', 'Financial Net Income',\n",
    "                 'Managerial Net Income', 'Online Retail Revenue'],\n",
    "    'Amount': [financial_total_revenue, financial_total_expenses, financial_net_income,\n",
    "               managerial_net_income, online_retail_revenue]\n",
    "})\n",
    "\n",
    "combined_income_statement.loc['Overall Net Income'] = ['Overall Net Income', \n",
    "                                                       combined_income_statement['Amount'].sum()]\n",
    "\n",
    "print(combined_income_statement)"
   ]
  },
  {
   "cell_type": "code",
   "execution_count": null,
   "metadata": {},
   "outputs": [],
   "source": []
  }
 ],
 "metadata": {
  "kernelspec": {
   "display_name": "base",
   "language": "python",
   "name": "python3"
  },
  "language_info": {
   "codemirror_mode": {
    "name": "ipython",
    "version": 3
   },
   "file_extension": ".py",
   "mimetype": "text/x-python",
   "name": "python",
   "nbconvert_exporter": "python",
   "pygments_lexer": "ipython3",
   "version": "3.9.13"
  }
 },
 "nbformat": 4,
 "nbformat_minor": 2
}
